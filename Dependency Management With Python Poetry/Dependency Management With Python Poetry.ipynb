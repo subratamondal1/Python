{
 "cells": [
  {
   "cell_type": "markdown",
   "id": "2858a487",
   "metadata": {},
   "source": [
    "# Dependency Management With Python Poetry"
   ]
  },
  {
   "cell_type": "markdown",
   "id": "c418e18b",
   "metadata": {},
   "source": [
    "When your Python project relies on external packages, you need to make sure you’re using the right version of each package. After an update, a package might not work as it did before the update. A dependency manager like Python Poetry helps you specify, install, and resolve external packages in your projects. This way, you can be sure that you always work with the right dependency version on every machine.\n",
    "\n",
    "In this tutorial, you’ll learn how to:\n",
    "\n",
    "* Start a **new** project with Poetry\n",
    "* Add Poetry to an **existing** project\n",
    "* Use the **pyproject.toml** file\n",
    "* Pin **dependencies**\n",
    "* Install dependencies with **poetry.lock**\n",
    "* Execute basic Poetry **CLI commands**\n",
    "\n",
    "Using Poetry will help you **start new projects, maintain existing ones, and master dependency management.** You’ll be prepared to work with **pyproject.toml** files, which will be the **standard for defining build requirements in Python projects**.\n",
    "\n",
    "To complete this tutorial and get the most out of it, you should have a basic understanding of virtual environments, modules and packages, and pip.\n",
    "\n",
    "While this tutorial focuses on dependency management, Poetry can also help you with **building and packaging projects**. If you want to share your work, then you can even publish your Poetry project to the **Python Packaging Index (PyPI)**."
   ]
  },
  {
   "cell_type": "markdown",
   "id": "9e9da4c0",
   "metadata": {},
   "source": [
    "# Install Poetry\n",
    "The recommended way to install Poetry is by using the official install-poetry script. You can either download and run this Python file manually or select your operating system below to use the appropriate command (MacOS):\n",
    "\n",
    "<code>$ curl https://raw.githubusercontent.com/python-poetry/poetry/master/install-poetry.py | python3 -</code>\n",
    "\n",
    "In the output, you should see a message that the installation is complete. You can run `poetry --version` in your terminal to see if poetry works. This command will display your current Poetry version. If you want to update Poetry, then you can run poetry self update.\n"
   ]
  },
  {
   "cell_type": "code",
   "execution_count": 1,
   "id": "d90aee8a",
   "metadata": {},
   "outputs": [
    {
     "name": "stdout",
     "output_type": "stream",
     "text": [
      "\u001b[39;1mPoetry\u001b[39;22m (version \u001b[36m1.5.1\u001b[39m)\r\n"
     ]
    }
   ],
   "source": [
    "!poetry --version"
   ]
  },
  {
   "cell_type": "code",
   "execution_count": null,
   "id": "153c7920",
   "metadata": {},
   "outputs": [],
   "source": []
  }
 ],
 "metadata": {
  "hide_input": false,
  "kernelspec": {
   "display_name": "Python 3 (ipykernel)",
   "language": "python",
   "name": "python3"
  },
  "language_info": {
   "codemirror_mode": {
    "name": "ipython",
    "version": 3
   },
   "file_extension": ".py",
   "mimetype": "text/x-python",
   "name": "python",
   "nbconvert_exporter": "python",
   "pygments_lexer": "ipython3",
   "version": "3.11.1"
  },
  "toc": {
   "base_numbering": 1,
   "nav_menu": {},
   "number_sections": true,
   "sideBar": true,
   "skip_h1_title": false,
   "title_cell": "Table of Contents",
   "title_sidebar": "Contents",
   "toc_cell": false,
   "toc_position": {},
   "toc_section_display": true,
   "toc_window_display": false
  },
  "varInspector": {
   "cols": {
    "lenName": 16,
    "lenType": 16,
    "lenVar": 40
   },
   "kernels_config": {
    "python": {
     "delete_cmd_postfix": "",
     "delete_cmd_prefix": "del ",
     "library": "var_list.py",
     "varRefreshCmd": "print(var_dic_list())"
    },
    "r": {
     "delete_cmd_postfix": ") ",
     "delete_cmd_prefix": "rm(",
     "library": "var_list.r",
     "varRefreshCmd": "cat(var_dic_list()) "
    }
   },
   "types_to_exclude": [
    "module",
    "function",
    "builtin_function_or_method",
    "instance",
    "_Feature"
   ],
   "window_display": false
  }
 },
 "nbformat": 4,
 "nbformat_minor": 5
}
