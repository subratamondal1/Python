{
  "nbformat": 4,
  "nbformat_minor": 0,
  "metadata": {
    "colab": {
      "provenance": [],
      "authorship_tag": "ABX9TyPWagZZgY38kQ2W3P2VF5Lj",
      "include_colab_link": true
    },
    "kernelspec": {
      "name": "python3",
      "display_name": "Python 3"
    },
    "language_info": {
      "name": "python"
    }
  },
  "cells": [
    {
      "cell_type": "markdown",
      "metadata": {
        "id": "view-in-github",
        "colab_type": "text"
      },
      "source": [
        "<a href=\"https://colab.research.google.com/github/subratamondal1/Python/blob/main/Software_designing_mindset.ipynb\" target=\"_parent\"><img src=\"https://colab.research.google.com/assets/colab-badge.svg\" alt=\"Open In Colab\"/></a>"
      ]
    },
    {
      "cell_type": "markdown",
      "source": [
        "# Types and Types hints"
      ],
      "metadata": {
        "id": "SIAaxJ44OL3o"
      }
    },
    {
      "cell_type": "markdown",
      "source": [
        "## Static vs Dynamic typed"
      ],
      "metadata": {
        "id": "nX4FA1xhLsVs"
      }
    },
    {
      "cell_type": "markdown",
      "source": [
        "**`Dynamic Typing`**: Python is a dynamic typed programming language. Python does type checking at run-time. Basically in Python, variables don't have the types but the values do. In dynamic typing, the type of a variable is allowed to change over its lifetime.\n",
        "\n",
        "```python\n",
        "name = \"Subrata Mondal\" # str type\n",
        "name = 23               # int type\n",
        "```\n",
        "\n",
        "**`Static Typing`**: Java, C, C++ are static typed programming language. They does type checking at compile time. Basically, there variables have the type. In static typing, the type of a variable is not allowed to change over its lifetime. \n"
      ],
      "metadata": {
        "id": "HvUWkQqlL4Lw"
      }
    },
    {
      "cell_type": "markdown",
      "source": [
        "## Strongly vs Weakly typed"
      ],
      "metadata": {
        "id": "in9Cz5sQO_Uy"
      }
    },
    {
      "cell_type": "markdown",
      "source": [
        "**`Strongly typed`**: Python is a strong typed programming language, because it does not allow implicit conversions between unrelated data types, while a **`weakly typed`** language does.\n",
        "\n",
        "The difference between strong typing and weak typing is not about declaring types on variables, but about `how the language handles operations on values of different types`.\n",
        "\n",
        "```python\n",
        "name = \"Subrata\"\n",
        "age = 23\n",
        "name + age       # throws TypeError, Strongly Typed\n",
        "name + str(23)   # Subrata23, works fine, Explicit Type conversion\n",
        "```\n",
        "\n",
        "**`Weakly typed`**: JavaScript, PHP, Perl are weakly typed programming language because they allow implicit conversions between unrelated data types.\n",
        "\n",
        "\n",
        "```javascript\n",
        "var name = \"Subrata\"\n",
        "var age = 23\n",
        "name + age // Subrata23, works perfectly fine, Weakly Typed, Implicit Type conversion\n",
        "```\n",
        "\n"
      ],
      "metadata": {
        "id": "0Stw_cWJPF39"
      }
    },
    {
      "cell_type": "markdown",
      "source": [
        "## Type hints"
      ],
      "metadata": {
        "id": "euGRSLBrSzyh"
      }
    },
    {
      "cell_type": "code",
      "execution_count": null,
      "metadata": {
        "id": "mzej1txmLiVc"
      },
      "outputs": [],
      "source": []
    }
  ]
}