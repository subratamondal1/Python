{
  "nbformat": 4,
  "nbformat_minor": 0,
  "metadata": {
    "colab": {
      "provenance": [],
      "authorship_tag": "ABX9TyM0s4/vv88M5kSMFk+RVo6Q",
      "include_colab_link": true
    },
    "kernelspec": {
      "name": "python3",
      "display_name": "Python 3"
    },
    "language_info": {
      "name": "python"
    }
  },
  "cells": [
    {
      "cell_type": "markdown",
      "metadata": {
        "id": "view-in-github",
        "colab_type": "text"
      },
      "source": [
        "<a href=\"https://colab.research.google.com/github/subratamondal1/Python/blob/main/Software_designing_mindset.ipynb\" target=\"_parent\"><img src=\"https://colab.research.google.com/assets/colab-badge.svg\" alt=\"Open In Colab\"/></a>"
      ]
    },
    {
      "cell_type": "markdown",
      "source": [
        "# Types and Types hints"
      ],
      "metadata": {
        "id": "SIAaxJ44OL3o"
      }
    },
    {
      "cell_type": "markdown",
      "source": [
        "## Static vs Dynamic typed"
      ],
      "metadata": {
        "id": "nX4FA1xhLsVs"
      }
    },
    {
      "cell_type": "markdown",
      "source": [
        "**`Dynamic Typing`**: Python is a dynamic typed programming language. Python does type checking at run-time. Basically in Python, variables don't have the types but the values do. In dynamic typing, the type of a variable is allowed to change over its lifetime.\n",
        "\n",
        "```python\n",
        "name = \"Subrata Mondal\" # str type\n",
        "name = 23               # int type\n",
        "```\n",
        "\n",
        "**`Static Typing`**: Java, C, C++ are static typed programming language. They does type checking at compile time. Basically, there variables have the type. In static typing, the type of a variable is not allowed to change over its lifetime. \n"
      ],
      "metadata": {
        "id": "HvUWkQqlL4Lw"
      }
    },
    {
      "cell_type": "markdown",
      "source": [
        "## Strongly vs Weakly typed"
      ],
      "metadata": {
        "id": "in9Cz5sQO_Uy"
      }
    },
    {
      "cell_type": "markdown",
      "source": [
        "**`Strongly typed`**: Python is a strong typed programming language, because it does not allow implicit conversions between unrelated data types, while a **`weakly typed`** language does.\n",
        "\n",
        "The difference between strong typing and weak typing is not about declaring types on variables, but about `how the language handles operations on values of different types`.\n",
        "\n",
        "```python\n",
        "name = \"Subrata\"\n",
        "age = 23\n",
        "name + age       # throws TypeError, Strongly Typed\n",
        "name + str(23)   # Subrata23, works fine, Explicit Type conversion\n",
        "```\n",
        "\n",
        "**`Weakly typed`**: JavaScript, PHP, Perl are weakly typed programming language because they allow implicit conversions between unrelated data types.\n",
        "\n",
        "\n",
        "```javascript\n",
        "var name = \"Subrata\"\n",
        "var age = 23\n",
        "name + age // Subrata23, works perfectly fine, Weakly Typed, Implicit Type conversion\n",
        "```\n",
        "\n"
      ],
      "metadata": {
        "id": "0Stw_cWJPF39"
      }
    },
    {
      "cell_type": "markdown",
      "source": [
        "## Type hints"
      ],
      "metadata": {
        "id": "euGRSLBrSzyh"
      }
    },
    {
      "cell_type": "markdown",
      "source": [
        "**`Type hints`**: are features of Python that allows the user to know the datatype of the function's paramenters and it's return types. Type hints are completely ignored by the Python interpreter though.\n",
        "```python\n",
        "def greet(name:str) -> str:\n",
        "  return \"Welcome!!! \" + name\n",
        "  ```"
      ],
      "metadata": {
        "id": "TSdup-GouWCU"
      }
    },
    {
      "cell_type": "markdown",
      "source": [
        "## Callables"
      ],
      "metadata": {
        "id": "u3c1PDHDvIVT"
      }
    },
    {
      "cell_type": "markdown",
      "source": [
        "**`Callables`**: Callable from typing is a type that you can use for type hints to indicate a callable. A callable is anything that can be called, such as a `function, a method, a class, or an instance of a class with a` **`__call__`** `method`.\n",
        "\n",
        "The syntax for Callable from typing is **`Callable[[A1,..., An], Rt]`**, where A1,..., An are the types of the arguments and Rt is the return type. \n",
        "\n",
        "```python\n",
        "from typing import Callable\n",
        "\n",
        "# Type Hint: inputType, returnType\n",
        "IntFunctionSubrata = Callable[[int],int] \n",
        "\n",
        "def add_three(x: int) -> int:\n",
        "  return x + 3\n",
        "\n",
        "# my_func is of the type IntFunctionSubrata, that takes in int as input gives int as output\n",
        "my_func: IntFunctionSubrata  = add_three\n",
        "\n",
        "my_func(5)\n",
        "```\n"
      ],
      "metadata": {
        "id": "CMSKnw4PyK3Y"
      }
    },
    {
      "cell_type": "code",
      "execution_count": null,
      "metadata": {
        "colab": {
          "base_uri": "https://localhost:8080/"
        },
        "id": "mzej1txmLiVc",
        "outputId": "778f423c-9394-4ff8-8ee5-9a548578bd8b"
      },
      "outputs": [
        {
          "output_type": "execute_result",
          "data": {
            "text/plain": [
              "8"
            ]
          },
          "metadata": {},
          "execution_count": 5
        }
      ],
      "source": [
        "from typing import Callable\n",
        "\n",
        "# Type Hint: inputType, returnType\n",
        "IntFunctionSubrata = Callable[[int],int] \n",
        "\n",
        "def add_three(x: int) -> int:\n",
        "  return x + 3\n",
        "\n",
        "# my_func is of the type IntFunctionSubrata, that takes in int as input gives int as output\n",
        "my_func: IntFunctionSubrata  = add_three\n",
        "\n",
        "my_func(5)\n"
      ]
    },
    {
      "cell_type": "markdown",
      "source": [
        "## Nominal and Structural(Duck) typing\n"
      ],
      "metadata": {
        "id": "JZUdVzehG1mT"
      }
    },
    {
      "cell_type": "markdown",
      "source": [
        "**`Nominal typing`**: is a way of checking type compatibility by name, meaning by their explicit declarations. \n",
        "\n",
        "For example, in nominal typing, a class A is allowed where a class B is expected if and only if A is a subclass of B2. This means that the type hierarchy is based on the inheritance relationships between classes.\n",
        "\n",
        "`Python uses nominal typing for classes by default.`\n",
        "\n",
        "```python\n",
        "class Animal: # parent class\n",
        "    def make_sound(self) -> None:\n",
        "        print(\"Animal\")\n",
        "\n",
        "class Dog(Animal): # subclass of Animal class\n",
        "    def make_sound(self) -> None:\n",
        "        print(\"Woof\")\n",
        "\n",
        "class Cat(Animal): # subclass of Animal class\n",
        "    def make_sound(self) -> None:\n",
        "        print(\"Meow\")\n",
        "\n",
        "def pet(animal: Animal) -> None:\n",
        "    animal.make_sound()\n",
        "\n",
        "pet(Dog())    # Woof:- Okay, Dog is a subclass of Animal\n",
        "pet(Cat())    # Meow:- Okay, Cat is a subclass of Animal\n",
        "pet(Animal()) # Animal:- Okay, Animal is a subclass of itself\n",
        "```\n",
        "\n",
        "Nominal typing is useful for preventing accidental type equivalence, which allows better type-safety than structural typing. The cost is a reduced flexibility, as nominal typing does not allow new super-types to be created without modification of the existing subtypes.\n",
        "\n",
        "**`Structural(Duck) typing`**: Structural typing is a way of checking type compatibility by structure, meaning their properties and methods.\n",
        "\n",
        "For example, in structural typing, two types are compatible if they have the same properties and methods with compatible types, regardless of their names or inheritance relationships. This is similar to the “duck typing” philosophy that you see in classic Python with no type annotations: if it looks like a duck and quacks like a duck, it’s a duck.\n",
        "\n",
        "Python supports structural typing for some types by using **protocols**. A protocol is an abstract base class that defines an interface that can be implemented by any class that has the required properties and methods. For example, the Iterable protocol defines an interface for objects that can be iterated over:\n",
        "\n",
        "```python\n",
        "from typing import Protocol\n",
        "\n",
        "class Iterable(Protocol):\n",
        "    def __iter__(self) -> Iterator:\n",
        "        ...\n",
        "```\n",
        "\n",
        "Any class that has an **`__iter__`** method that returns an Iterator is considered a structural subtype of Iterable, even if it does not explicitly inherit from it or register as implementing it. For example:\n",
        "\n",
        "```python\n",
        "class Bucket:\n",
        "    def __iter__(self) -> Iterator[int]:\n",
        "        ...\n",
        "\n",
        "def collect(items: Iterable[int]) -> int:\n",
        "    ...\n",
        "\n",
        "collect(Bucket()) # Okay, Bucket is a structural subtype of Iterable[int]\n",
        "```\n",
        "\n",
        "In this example, the Bucket class has an **`__iter__`** method that returns an Iterator[int], so it matches the structure of Iterable[int]. Therefore, it can be passed to the collect function that expects an argument of type Iterable[int].\n",
        "\n",
        "Structural typing is useful for flexibility and interoperability, as it allows different types to work together as long as they have the same structure. The cost is a reduced type-safety, as structural typing may allow accidental type equivalence or implicit subtyping that can lead to errors or confusion.\n",
        "\n"
      ],
      "metadata": {
        "id": "ap-9Z0fdDWUp"
      }
    },
    {
      "cell_type": "code",
      "source": [],
      "metadata": {
        "id": "5y0iRE4HE8MG"
      },
      "execution_count": null,
      "outputs": []
    }
  ]
}