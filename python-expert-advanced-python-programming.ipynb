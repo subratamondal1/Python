{
 "cells": [
  {
   "cell_type": "code",
   "execution_count": 1,
   "id": "2eb6df38",
   "metadata": {
    "_cell_guid": "b1076dfc-b9ad-4769-8c92-a6c4dae69d19",
    "_uuid": "8f2839f25d086af736a60e9eeb907d3b93b6e0e5",
    "execution": {
     "iopub.execute_input": "2023-06-03T14:57:17.136217Z",
     "iopub.status.busy": "2023-06-03T14:57:17.135065Z",
     "iopub.status.idle": "2023-06-03T14:57:17.154540Z",
     "shell.execute_reply": "2023-06-03T14:57:17.153131Z"
    },
    "papermill": {
     "duration": 0.039135,
     "end_time": "2023-06-03T14:57:17.157965",
     "exception": false,
     "start_time": "2023-06-03T14:57:17.118830",
     "status": "completed"
    },
    "tags": []
   },
   "outputs": [],
   "source": [
    "# This Python 3 environment comes with many helpful analytics libraries installed\n",
    "# It is defined by the kaggle/python Docker image: https://github.com/kaggle/docker-python\n",
    "# For example, here's several helpful packages to load\n",
    "\n",
    "import numpy as np # linear algebra\n",
    "import pandas as pd # data processing, CSV file I/O (e.g. pd.read_csv)\n",
    "\n",
    "# Input data files are available in the read-only \"../input/\" directory\n",
    "# For example, running this (by clicking run or pressing Shift+Enter) will list all files under the input directory\n",
    "\n",
    "import os\n",
    "for dirname, _, filenames in os.walk('/kaggle/input'):\n",
    "    for filename in filenames:\n",
    "        print(os.path.join(dirname, filename))\n",
    "\n",
    "# You can write up to 20GB to the current directory (/kaggle/working/) that gets preserved as output when you create a version using \"Save & Run All\" \n",
    "# You can also write temporary files to /kaggle/temp/, but they won't be saved outside of the current session"
   ]
  },
  {
   "cell_type": "markdown",
   "id": "15bf349c",
   "metadata": {
    "papermill": {
     "duration": 0.012245,
     "end_time": "2023-06-03T14:57:17.182890",
     "exception": false,
     "start_time": "2023-06-03T14:57:17.170645",
     "status": "completed"
    },
    "tags": []
   },
   "source": [
    "# <center>Advanced Python Programming</center>\n",
    "---"
   ]
  },
  {
   "cell_type": "markdown",
   "id": "15e77dac",
   "metadata": {
    "papermill": {
     "duration": 0.012426,
     "end_time": "2023-06-03T14:57:17.207844",
     "exception": false,
     "start_time": "2023-06-03T14:57:17.195418",
     "status": "completed"
    },
    "tags": []
   },
   "source": [
    "## Modules and Packages\n",
    "---\n",
    "**`Modules :`** are any file that ends with the extension **`.py`**.\n",
    "\n",
    "**`Packages :`** are directory that contains collection of python modules. And the directory must contain a module named **`__init__.py`** to be considered as a package.\n"
   ]
  },
  {
   "cell_type": "markdown",
   "id": "5e64091f",
   "metadata": {
    "papermill": {
     "duration": 0.012515,
     "end_time": "2023-06-03T14:57:17.233074",
     "exception": false,
     "start_time": "2023-06-03T14:57:17.220559",
     "status": "completed"
    },
    "tags": []
   },
   "source": [
    "### The `__main__` module\n",
    "---\n",
    "The main module in Python is the source file where the program execution starts. Every Python program has a **`__main__`** module, and the code within that module is executed when the program is run. The **`__main__`** module can be located in any file, but it is typically placed in a file named **`main.py`**.\n",
    "\n",
    "The **`__main__`** module can be checked using the expression **`__name__ == '__main__'`**, which evaluates to True when the module is executed as a script, and to False when the module is imported by another module. This allows a common idiom for conditionally executing code when the module is not initialized from an import statement:\n",
    "\n",
    "**`Note:`** modules that are imported can't be named as **`main`**."
   ]
  },
  {
   "cell_type": "code",
   "execution_count": 2,
   "id": "db27277f",
   "metadata": {
    "execution": {
     "iopub.execute_input": "2023-06-03T14:57:17.260539Z",
     "iopub.status.busy": "2023-06-03T14:57:17.260104Z",
     "iopub.status.idle": "2023-06-03T14:57:17.266776Z",
     "shell.execute_reply": "2023-06-03T14:57:17.265725Z"
    },
    "papermill": {
     "duration": 0.025346,
     "end_time": "2023-06-03T14:57:17.271425",
     "exception": false,
     "start_time": "2023-06-03T14:57:17.246079",
     "status": "completed"
    },
    "tags": []
   },
   "outputs": [
    {
     "name": "stdout",
     "output_type": "stream",
     "text": [
      "ok\n"
     ]
    }
   ],
   "source": [
    "if __name__ == '__main__':\n",
    "    # Execute when the module is not initialized from an import statement.\n",
    "    print(\"ok\")"
   ]
  },
  {
   "cell_type": "markdown",
   "id": "22cdaa35",
   "metadata": {
    "papermill": {
     "duration": 0.012286,
     "end_time": "2023-06-03T14:57:17.296954",
     "exception": false,
     "start_time": "2023-06-03T14:57:17.284668",
     "status": "completed"
    },
    "tags": []
   },
   "source": [
    "This code pattern is quite common in Python files that you want to be executed as a script and imported in another module."
   ]
  },
  {
   "cell_type": "markdown",
   "id": "d8998fa8",
   "metadata": {
    "papermill": {
     "duration": 0.012092,
     "end_time": "2023-06-03T14:57:17.322199",
     "exception": false,
     "start_time": "2023-06-03T14:57:17.310107",
     "status": "completed"
    },
    "tags": []
   },
   "source": [
    "## Files\n",
    "---\n",
    "reading files, creating files, writing to files, appending to files.\n",
    "\n",
    "\n",
    "To read files in Python, you need to use the `open()` function to open a file object and then use the `read()`, `readline()` or `readlines()` methods to read its contents.\n",
    "\n",
    "### Modes of `open` file object\n",
    "The modes of the `open()` function specify how the file will be opened and what operations can be performed on it. The modes are:\n",
    "\n",
    "* **`‘r’`**: Opens a file for reading only. The file pointer is placed at the beginning of the file. This is the default mode.\n",
    "* **`‘r+’`**: Opens a file for both reading and writing. The file pointer is placed at the beginning of the file.\n",
    "* **`‘w’`**: Opens a file for writing only. `Overwrites the file if the file exists. If the file does not exist, creates a new file for writing.`\n",
    "* **`‘w+’`**: Opens a file for both writing and reading. Overwrites the existing file if the file exists. If the file does not exist, creates a new file for reading and writing.\n",
    "* **`‘a’`**: Opens a file for appending. The file pointer is at the end of the file if the file exists. That is, the file is in the append mode. If the file does not exist, it creates a new file for writing.\n",
    "* **`‘a+’`**: Opens a file for both appending and reading. The file pointer is at the end of the file if the file exists. The file opens in the append mode. If the file does not exist, it creates a new file for reading and writing.</br>\n",
    "You can also add a `‘b’` to any of these modes to open the file in **binary mode**, which means that the data is read and written as bytes objects. This is useful for non-text files such as **images or audio files**.\n",
    "\n",
    "```python\n",
    "# open a file in read mode\n",
    "file = open(\"test.txt\", \"r\")\n",
    "\n",
    "# read the whole file and returns all the content as a single string\n",
    "print(file.read()) \n",
    "\n",
    "# close the file\n",
    "file.close()\n",
    "```\n",
    "\n",
    "You can also use the `with` keyword to automatically close the file after reading. \n",
    "\n",
    "```python\n",
    "# use with keyword to open and close a file\n",
    "with open(\"test.txt\", \"r\") as file:\n",
    "    # read the whole file and returns all the content as a single string\n",
    "    print(file.read())\n",
    "```\n",
    "\n",
    "### Built-in methods of `open` file object\n",
    "* **`read(size)`**: It reads up to size bytes from the file and returns a string. If size is omitted or negative, it reads until the end of the file.\n",
    "* **`readline(size)`**: It reads one line from the file and returns a string. If size is given, it reads at most size bytes from the line. An empty string is returned when the end of the file is reached.\n",
    "* **`readlines(sizehint)`**: It reads all the lines from the file and returns a list of strings. If sizehint is given, it reads approximately sizehint bytes from the file and splits them into lines.\n",
    "* **`write(string)`**: It writes the string to the file and returns None. It does not add a newline character at the end of the string.\n",
    "* **`writelines(lines)`**: It writes a list of strings to the file and returns None. It does not add newline characters at the end of each string.\n",
    "* **`close()`**: It closes the file and frees up any system resources used by it. It is recommended to use this method after finishing any file operations.\n",
    "* **`flush()`**: It forces any buffered data to be written to the file. This can be useful when you want to ensure that the data is written immediately without waiting for buffering.\n",
    "* **`seek(offset, whence)`**: It changes the cursor location in the file or the current file position to offset bytes, relative to whence. The whence argument can be 0 (start of the file), 1 (current position), or 2 (end of the file). It returns the new file position in bytes. The `seek()` method of the file object allows you to change the current position of the file pointer within the file. The file pointer is like a cursor that indicates where the next read or write operation will take place. The `seek()` method takes two parameters:\n",
    "    * `offset:` This is a number of bytes to move the file pointer from the reference point. It can be positive (move forward) or negative (move backward).\n",
    "    * `whence:` This is an optional parameter that specifies the reference point from which to move the file pointer. It can be one of the following values:\n",
    "        * `0`: The beginning of the file (default)\n",
    "        * `1`: The current position of the file pointer\n",
    "        * `2`: The end of the file</br>\n",
    "The `seek()` method returns None and does not raise any exception if the operation is successful. However, it may raise an OSError if the file is not opened in binary mode and whence is not 0 or offset is not 0.\n",
    "\n",
    "```python\n",
    "# open the file in read mode\n",
    "f = open(\"test.txt\", \"r\")\n",
    "\n",
    "# move the file pointer to the 6th byte from the beginning\n",
    "f.seek(6)\n",
    "# read 5 bytes from that position\n",
    "print(f.read(5)) # output: world\n",
    "\n",
    "# move the file pointer to the 3rd byte from the end\n",
    "f.seek(-3, 2)\n",
    "# read 3 bytes from that position\n",
    "print(f.read(3)) # output: ile\n",
    "\n",
    "# move the file pointer to the 8th byte from the current position\n",
    "f.seek(8, 1)\n",
    "# read one line from that position\n",
    "print(f.readline()) # output: This is a test file.\n",
    "\n",
    "# close the file\n",
    "f.close()\n",
    "```\n",
    "\n",
    "* **`tell()`**: It returns the current file position in bytes."
   ]
  },
  {
   "cell_type": "markdown",
   "id": "e673a132",
   "metadata": {
    "papermill": {
     "duration": 0.012078,
     "end_time": "2023-06-03T14:57:17.347763",
     "exception": false,
     "start_time": "2023-06-03T14:57:17.335685",
     "status": "completed"
    },
    "tags": []
   },
   "source": [
    "## args and kwargs\n",
    "---\n",
    "**`*args`** in Python is a special parameter that allows a function to take a variable number of arguments without specifying them in advance. Args stands for arguments, and it is usually preceded by an asterisk (`*`) in the function definition. For example:"
   ]
  },
  {
   "cell_type": "code",
   "execution_count": 3,
   "id": "6e22a013",
   "metadata": {
    "execution": {
     "iopub.execute_input": "2023-06-03T14:57:17.375709Z",
     "iopub.status.busy": "2023-06-03T14:57:17.375234Z",
     "iopub.status.idle": "2023-06-03T14:57:17.382825Z",
     "shell.execute_reply": "2023-06-03T14:57:17.381838Z"
    },
    "papermill": {
     "duration": 0.02481,
     "end_time": "2023-06-03T14:57:17.385910",
     "exception": false,
     "start_time": "2023-06-03T14:57:17.361100",
     "status": "completed"
    },
    "tags": []
   },
   "outputs": [
    {
     "name": "stdout",
     "output_type": "stream",
     "text": [
      "6\n",
      "9\n",
      "6\n",
      "0\n"
     ]
    }
   ],
   "source": [
    "def add(*args):\n",
    "    # args is a tuple of all the arguments passed\n",
    "    total = 0\n",
    "    for num in args:\n",
    "        total += num\n",
    "    return total\n",
    "\n",
    "print(add(1, 2, 3)) # output: 6\n",
    "print(add(4, 5)) # output: 9\n",
    "print(add(6)) # output: 6\n",
    "print(add()) # output: 0"
   ]
  },
  {
   "cell_type": "markdown",
   "id": "2246d242",
   "metadata": {
    "papermill": {
     "duration": 0.012201,
     "end_time": "2023-06-03T14:57:17.411204",
     "exception": false,
     "start_time": "2023-06-03T14:57:17.399003",
     "status": "completed"
    },
    "tags": []
   },
   "source": [
    "In this example, the add function can take any number of arguments and return their sum. The args parameter is a tuple that contains all the arguments passed to the function. You can use a for loop to iterate over args and perform any operation you want.\n",
    "\n",
    "The name args is just a convention and you can use any other name as long as it is preceded by an asterisk (`*`). However, it is recommended to use args as it is more readable and widely used.\n",
    "\n",
    "\n",
    "**`kwargs`** in Python is a special parameter that allows a function to take a variable number of keyword arguments without specifying them in advance. kwargs stands for keyword arguments, and it is usually preceded by two asterisks (`**`) in the function definition. For example:"
   ]
  },
  {
   "cell_type": "code",
   "execution_count": 4,
   "id": "eb9f14ba",
   "metadata": {
    "execution": {
     "iopub.execute_input": "2023-06-03T14:57:17.438421Z",
     "iopub.status.busy": "2023-06-03T14:57:17.437995Z",
     "iopub.status.idle": "2023-06-03T14:57:17.445017Z",
     "shell.execute_reply": "2023-06-03T14:57:17.443844Z"
    },
    "papermill": {
     "duration": 0.024891,
     "end_time": "2023-06-03T14:57:17.448659",
     "exception": false,
     "start_time": "2023-06-03T14:57:17.423768",
     "status": "completed"
    },
    "tags": []
   },
   "outputs": [
    {
     "name": "stdout",
     "output_type": "stream",
     "text": [
      "name = Alice\n",
      "age = 25\n",
      "city = New York\n",
      "country = USA\n"
     ]
    }
   ],
   "source": [
    "def greet(**kwargs):\n",
    "    # kwargs is a dictionary of all the keyword arguments passed\n",
    "    for key, value in kwargs.items():\n",
    "        print(f\"{key} = {value}\")\n",
    "\n",
    "greet(name=\"Alice\", age=25) # output: name = Alice, age = 25\n",
    "greet(city=\"New York\", country=\"USA\") # output: city = New York, country = USA\n",
    "greet() # output: nothing"
   ]
  },
  {
   "cell_type": "markdown",
   "id": "5e711b96",
   "metadata": {
    "papermill": {
     "duration": 0.012951,
     "end_time": "2023-06-03T14:57:17.474735",
     "exception": false,
     "start_time": "2023-06-03T14:57:17.461784",
     "status": "completed"
    },
    "tags": []
   },
   "source": [
    "In this example, the greet function can take any number of keyword arguments and print them as key-value pairs. `The kwargs parameter is a dictionary` that contains all the keyword arguments passed to the function. You can use a for loop to iterate over `kwargs.items()` and access the keys and values.\n",
    "\n",
    "The name kwargs is just a convention and you can use any other name as long as it is preceded by two asterisks (`**`). However, it is recommended to use kwargs as it is more readable and widely used."
   ]
  },
  {
   "cell_type": "markdown",
   "id": "b85eea31",
   "metadata": {
    "papermill": {
     "duration": 0.014848,
     "end_time": "2023-06-03T14:57:17.504106",
     "exception": false,
     "start_time": "2023-06-03T14:57:17.489258",
     "status": "completed"
    },
    "tags": []
   },
   "source": [
    "### Unpack/Splat operator\n",
    "The unpack operator in Python is the asterisk (`*`) symbol that can be used to unpack an iterable object such as a list, a tuple, a set, or a dictionary into individual elements. For example:"
   ]
  },
  {
   "cell_type": "code",
   "execution_count": 5,
   "id": "ce55b63d",
   "metadata": {
    "execution": {
     "iopub.execute_input": "2023-06-03T14:57:17.534679Z",
     "iopub.status.busy": "2023-06-03T14:57:17.534230Z",
     "iopub.status.idle": "2023-06-03T14:57:17.544514Z",
     "shell.execute_reply": "2023-06-03T14:57:17.543106Z"
    },
    "papermill": {
     "duration": 0.028221,
     "end_time": "2023-06-03T14:57:17.547550",
     "exception": false,
     "start_time": "2023-06-03T14:57:17.519329",
     "status": "completed"
    },
    "tags": []
   },
   "outputs": [
    {
     "name": "stdout",
     "output_type": "stream",
     "text": [
      "1\n",
      "2\n",
      "3\n",
      "4\n",
      "5\n",
      "8\n",
      "9\n",
      "6\n",
      "7\n",
      "name\n",
      "age\n"
     ]
    }
   ],
   "source": [
    "# unpack a list into three variables\n",
    "a, b, c = [1, 2, 3]\n",
    "print(a) # output: 1\n",
    "print(b) # output: 2\n",
    "print(c) # output: 3\n",
    "\n",
    "# unpack a tuple into two variables\n",
    "x, y = (4, 5)\n",
    "print(x) # output: 4\n",
    "print(y) # output: 5\n",
    "\n",
    "# unpack a set into four variables\n",
    "p, q, r, s = {6, 7, 8, 9}\n",
    "print(p) # output: 6\n",
    "print(q) # output: 7\n",
    "print(r) # output: 8\n",
    "print(s) # output: 9\n",
    "\n",
    "# unpack a dictionary into two variables\n",
    "key, value = {\"name\": \"Alice\",\"age\":23}\n",
    "print(key) # output: name\n",
    "print(value) # output: Alice"
   ]
  },
  {
   "cell_type": "markdown",
   "id": "1b1fabe1",
   "metadata": {
    "papermill": {
     "duration": 0.013027,
     "end_time": "2023-06-03T14:57:17.573920",
     "exception": false,
     "start_time": "2023-06-03T14:57:17.560893",
     "status": "completed"
    },
    "tags": []
   },
   "source": [
    "The unpack operator can also be used with the `*` symbol to unpack an iterable object into multiple arguments for a function call. For example:"
   ]
  },
  {
   "cell_type": "code",
   "execution_count": 6,
   "id": "0c54ae8f",
   "metadata": {
    "execution": {
     "iopub.execute_input": "2023-06-03T14:57:17.602336Z",
     "iopub.status.busy": "2023-06-03T14:57:17.601421Z",
     "iopub.status.idle": "2023-06-03T14:57:17.608990Z",
     "shell.execute_reply": "2023-06-03T14:57:17.607651Z"
    },
    "papermill": {
     "duration": 0.025073,
     "end_time": "2023-06-03T14:57:17.611866",
     "exception": false,
     "start_time": "2023-06-03T14:57:17.586793",
     "status": "completed"
    },
    "tags": []
   },
   "outputs": [
    {
     "name": "stdout",
     "output_type": "stream",
     "text": [
      "10 20 30\n"
     ]
    }
   ],
   "source": [
    "# define a function that takes three arguments and prints them\n",
    "def print_args(a, b, c):\n",
    "    print(a, b, c)\n",
    "\n",
    "# create a list with three elements\n",
    "args = [10, 20, 30]\n",
    "\n",
    "# use the * symbol to unpack the list into arguments for the function call\n",
    "print_args(*args) # output: 10 20 30"
   ]
  },
  {
   "cell_type": "markdown",
   "id": "8e581921",
   "metadata": {
    "papermill": {
     "duration": 0.013171,
     "end_time": "2023-06-03T14:57:17.638212",
     "exception": false,
     "start_time": "2023-06-03T14:57:17.625041",
     "status": "completed"
    },
    "tags": []
   },
   "source": [
    "The unpack operator can also be used with the `*` symbol to unpack an iterable object into another iterable object such as a list or a tuple. For example:"
   ]
  },
  {
   "cell_type": "code",
   "execution_count": 7,
   "id": "bb46bda7",
   "metadata": {
    "execution": {
     "iopub.execute_input": "2023-06-03T14:57:17.667142Z",
     "iopub.status.busy": "2023-06-03T14:57:17.666400Z",
     "iopub.status.idle": "2023-06-03T14:57:17.675050Z",
     "shell.execute_reply": "2023-06-03T14:57:17.673303Z"
    },
    "papermill": {
     "duration": 0.026865,
     "end_time": "2023-06-03T14:57:17.678442",
     "exception": false,
     "start_time": "2023-06-03T14:57:17.651577",
     "status": "completed"
    },
    "tags": []
   },
   "outputs": [
    {
     "name": "stdout",
     "output_type": "stream",
     "text": [
      "[1, 2, 3, 4, 5, 6]\n",
      "(1, 2, 3, 4, 5, 6)\n"
     ]
    }
   ],
   "source": [
    "# create two lists\n",
    "list1 = [1, 2, 3]\n",
    "list2 = [4, 5, 6]\n",
    "\n",
    "# use the * symbol to unpack the lists into a new list\n",
    "list3 = [*list1, *list2]\n",
    "print(list3) # output: [1, 2, 3, 4, 5, 6]\n",
    "\n",
    "# use the * symbol to unpack the lists into a new tuple\n",
    "tuple1 = (*list1, *list2)\n",
    "print(tuple1) # output: (1, 2, 3, 4, 5, 6)"
   ]
  },
  {
   "cell_type": "markdown",
   "id": "13e75a44",
   "metadata": {
    "papermill": {
     "duration": 0.013715,
     "end_time": "2023-06-03T14:57:17.705398",
     "exception": false,
     "start_time": "2023-06-03T14:57:17.691683",
     "status": "completed"
    },
    "tags": []
   },
   "source": [
    "### unpack dictionary\n",
    "To unpack a dictionary in Python, you can use the double asterisk (`**`) operator that can be used to unpack a dictionary into key-value pairs. For example:"
   ]
  },
  {
   "cell_type": "code",
   "execution_count": 8,
   "id": "d2190216",
   "metadata": {
    "execution": {
     "iopub.execute_input": "2023-06-03T14:57:17.743089Z",
     "iopub.status.busy": "2023-06-03T14:57:17.742267Z",
     "iopub.status.idle": "2023-06-03T14:57:17.749516Z",
     "shell.execute_reply": "2023-06-03T14:57:17.748053Z"
    },
    "papermill": {
     "duration": 0.028632,
     "end_time": "2023-06-03T14:57:17.752420",
     "exception": false,
     "start_time": "2023-06-03T14:57:17.723788",
     "status": "completed"
    },
    "tags": []
   },
   "outputs": [
    {
     "name": "stdout",
     "output_type": "stream",
     "text": [
      "Hello, Alice. You are 25 years old.\n"
     ]
    }
   ],
   "source": [
    "# create a dictionary\n",
    "d = {\"name\": \"Alice\", \"age\": 25}\n",
    "\n",
    "# use the ** operator to unpack the dictionary into keyword arguments for a function call\n",
    "def greet(name, age):\n",
    "    print(f\"Hello, {name}. You are {age} years old.\")\n",
    "\n",
    "greet(**d) # output: Hello, Alice. You are 25 years old."
   ]
  },
  {
   "cell_type": "markdown",
   "id": "84758708",
   "metadata": {
    "papermill": {
     "duration": 0.012904,
     "end_time": "2023-06-03T14:57:17.779347",
     "exception": false,
     "start_time": "2023-06-03T14:57:17.766443",
     "status": "completed"
    },
    "tags": []
   },
   "source": [
    "In this example, the `**` operator unpacks the dictionary d and passes its key-value pairs as keyword arguments to the greet function.\n",
    "\n",
    "\n",
    "You can also use the `**` operator to unpack a dictionary into another dictionary. For example:"
   ]
  },
  {
   "cell_type": "code",
   "execution_count": 9,
   "id": "f3558b95",
   "metadata": {
    "execution": {
     "iopub.execute_input": "2023-06-03T14:57:17.808342Z",
     "iopub.status.busy": "2023-06-03T14:57:17.807559Z",
     "iopub.status.idle": "2023-06-03T14:57:17.815249Z",
     "shell.execute_reply": "2023-06-03T14:57:17.813597Z"
    },
    "papermill": {
     "duration": 0.025527,
     "end_time": "2023-06-03T14:57:17.818128",
     "exception": false,
     "start_time": "2023-06-03T14:57:17.792601",
     "status": "completed"
    },
    "tags": []
   },
   "outputs": [
    {
     "name": "stdout",
     "output_type": "stream",
     "text": [
      "{'a': 1, 'b': 2, 'c': 3, 'd': 4}\n"
     ]
    }
   ],
   "source": [
    "# create two dictionaries\n",
    "d1 = {\"a\": 1, \"b\": 2}\n",
    "d2 = {\"c\": 3, \"d\": 4}\n",
    "\n",
    "# use the ** operator to unpack the dictionaries into a new dictionary\n",
    "d3 = {**d1, **d2}\n",
    "print(d3) # output: {'a': 1, 'b': 2, 'c': 3, 'd': 4}"
   ]
  },
  {
   "cell_type": "markdown",
   "id": "5d3b437a",
   "metadata": {
    "papermill": {
     "duration": 0.01258,
     "end_time": "2023-06-03T14:57:17.843854",
     "exception": false,
     "start_time": "2023-06-03T14:57:17.831274",
     "status": "completed"
    },
    "tags": []
   },
   "source": [
    "In this example, the `**` operator unpacks both `d1` and `d2` and merges them into a new dictionary `d3`."
   ]
  },
  {
   "cell_type": "markdown",
   "id": "464edcaa",
   "metadata": {
    "papermill": {
     "duration": 0.012573,
     "end_time": "2023-06-03T14:57:17.869669",
     "exception": false,
     "start_time": "2023-06-03T14:57:17.857096",
     "status": "completed"
    },
    "tags": []
   },
   "source": [
    "## Lambda Function\n",
    "---\n",
    "A Python lambda function is a small **anonymous function** that can take **any number of arguments**, but can only have **one expression**. It has the following syntax:\n",
    "```python\n",
    "lambda arguments: expression # the expression is evaluated and returned automatically\n",
    "```\n",
    "* Lambda functions are useful when you need a short function that you don’t want to name or define separately. \n",
    "* Lambda functions are often used as arguments to other functions that expect a function object, such as `map, filter, or sort`."
   ]
  },
  {
   "cell_type": "code",
   "execution_count": 10,
   "id": "6eaafeec",
   "metadata": {
    "execution": {
     "iopub.execute_input": "2023-06-03T14:57:17.898190Z",
     "iopub.status.busy": "2023-06-03T14:57:17.897719Z",
     "iopub.status.idle": "2023-06-03T14:57:17.904188Z",
     "shell.execute_reply": "2023-06-03T14:57:17.903225Z"
    },
    "papermill": {
     "duration": 0.024382,
     "end_time": "2023-06-03T14:57:17.907203",
     "exception": false,
     "start_time": "2023-06-03T14:57:17.882821",
     "status": "completed"
    },
    "tags": []
   },
   "outputs": [
    {
     "name": "stdout",
     "output_type": "stream",
     "text": [
      "9\n",
      "15\n"
     ]
    }
   ],
   "source": [
    "func = lambda x,y,z = 0: x + y + z\n",
    "print(func(4,5))\n",
    "print(func(4,5,6))"
   ]
  },
  {
   "cell_type": "markdown",
   "id": "97beeb7d",
   "metadata": {
    "papermill": {
     "duration": 0.013463,
     "end_time": "2023-06-03T14:57:17.934262",
     "exception": false,
     "start_time": "2023-06-03T14:57:17.920799",
     "status": "completed"
    },
    "tags": []
   },
   "source": [
    "### use case of lambda function\n",
    "#### sort the list of tuples by it's second element\n"
   ]
  },
  {
   "cell_type": "code",
   "execution_count": 11,
   "id": "af5aca19",
   "metadata": {
    "execution": {
     "iopub.execute_input": "2023-06-03T14:57:17.963406Z",
     "iopub.status.busy": "2023-06-03T14:57:17.962905Z",
     "iopub.status.idle": "2023-06-03T14:57:17.970773Z",
     "shell.execute_reply": "2023-06-03T14:57:17.969211Z"
    },
    "papermill": {
     "duration": 0.02631,
     "end_time": "2023-06-03T14:57:17.974272",
     "exception": false,
     "start_time": "2023-06-03T14:57:17.947962",
     "status": "completed"
    },
    "tags": []
   },
   "outputs": [
    {
     "name": "stdout",
     "output_type": "stream",
     "text": [
      "[(4, -6), (2, 3), (2, 4), (1, 4), (4, 8)]\n"
     ]
    }
   ],
   "source": [
    "list_of_tuples = [(2,4),(4,-6),(4,8),(2,3),(1,4)]\n",
    "list_of_tuples.sort(key=lambda x : x[1])\n",
    "print(list_of_tuples)"
   ]
  },
  {
   "cell_type": "markdown",
   "id": "69abf85a",
   "metadata": {
    "papermill": {
     "duration": 0.013197,
     "end_time": "2023-06-03T14:57:18.000892",
     "exception": false,
     "start_time": "2023-06-03T14:57:17.987695",
     "status": "completed"
    },
    "tags": []
   },
   "source": [
    "### nested lambda function"
   ]
  },
  {
   "cell_type": "code",
   "execution_count": 12,
   "id": "abe2c72a",
   "metadata": {
    "execution": {
     "iopub.execute_input": "2023-06-03T14:57:18.029830Z",
     "iopub.status.busy": "2023-06-03T14:57:18.029389Z",
     "iopub.status.idle": "2023-06-03T14:57:18.038761Z",
     "shell.execute_reply": "2023-06-03T14:57:18.037693Z"
    },
    "papermill": {
     "duration": 0.027216,
     "end_time": "2023-06-03T14:57:18.041852",
     "exception": false,
     "start_time": "2023-06-03T14:57:18.014636",
     "status": "completed"
    },
    "tags": []
   },
   "outputs": [
    {
     "name": "stdout",
     "output_type": "stream",
     "text": [
      "<function <lambda>.<locals>.<lambda> at 0x7e1c026958c0>\n",
      "40\n",
      "<---><---><---><---><---><---><---><---><---><---><---><---><---><---><---><---><---><---><---><--->\n",
      "<function multiplication1.<locals>.multiplication2 at 0x7e1c02695b90>\n",
      "40\n",
      "<---><---><---><---><---><---><---><---><---><---><---><---><---><---><---><---><---><---><---><--->\n",
      "40\n"
     ]
    }
   ],
   "source": [
    "multiplication = lambda x: lambda y: x * y\n",
    "result = multiplication(5)\n",
    "print(result)\n",
    "print(result(8))\n",
    "print(\"<--->\"*20)\n",
    "\n",
    "# same as above\n",
    "def multiplication1(x):\n",
    "    def multiplication2(y):\n",
    "        return x * y\n",
    "    return multiplication2\n",
    "\n",
    "result = multiplication1(5)\n",
    "print(result)\n",
    "print(result(8))\n",
    "print(\"<--->\"*20)\n",
    "\n",
    "result = multiplication1(5)(8)\n",
    "print(result)"
   ]
  },
  {
   "cell_type": "markdown",
   "id": "e6df31b6",
   "metadata": {
    "papermill": {
     "duration": 0.013769,
     "end_time": "2023-06-03T14:57:18.069249",
     "exception": false,
     "start_time": "2023-06-03T14:57:18.055480",
     "status": "completed"
    },
    "tags": []
   },
   "source": [
    "### lambda function with `*args and splat/unpack` operator"
   ]
  },
  {
   "cell_type": "code",
   "execution_count": 13,
   "id": "feca7eeb",
   "metadata": {
    "execution": {
     "iopub.execute_input": "2023-06-03T14:57:18.098833Z",
     "iopub.status.busy": "2023-06-03T14:57:18.098372Z",
     "iopub.status.idle": "2023-06-03T14:57:18.105810Z",
     "shell.execute_reply": "2023-06-03T14:57:18.104312Z"
    },
    "papermill": {
     "duration": 0.026165,
     "end_time": "2023-06-03T14:57:18.109140",
     "exception": false,
     "start_time": "2023-06-03T14:57:18.082975",
     "status": "completed"
    },
    "tags": []
   },
   "outputs": [
    {
     "name": "stdout",
     "output_type": "stream",
     "text": [
      "6\n",
      "6\n"
     ]
    }
   ],
   "source": [
    "func = lambda *args: sum(args)\n",
    "print(func(1,2,3))\n",
    "print(func(*[1,2,3]))"
   ]
  },
  {
   "cell_type": "markdown",
   "id": "5a1ac357",
   "metadata": {
    "papermill": {
     "duration": 0.013106,
     "end_time": "2023-06-03T14:57:18.135980",
     "exception": false,
     "start_time": "2023-06-03T14:57:18.122874",
     "status": "completed"
    },
    "tags": []
   },
   "source": [
    "### lambda function with `**kwargs and splat/unpack` operator"
   ]
  },
  {
   "cell_type": "code",
   "execution_count": 14,
   "id": "013845de",
   "metadata": {
    "execution": {
     "iopub.execute_input": "2023-06-03T14:57:18.164977Z",
     "iopub.status.busy": "2023-06-03T14:57:18.164479Z",
     "iopub.status.idle": "2023-06-03T14:57:18.173241Z",
     "shell.execute_reply": "2023-06-03T14:57:18.171410Z"
    },
    "papermill": {
     "duration": 0.026736,
     "end_time": "2023-06-03T14:57:18.176289",
     "exception": false,
     "start_time": "2023-06-03T14:57:18.149553",
     "status": "completed"
    },
    "tags": []
   },
   "outputs": [
    {
     "name": "stdout",
     "output_type": "stream",
     "text": [
      "10\n",
      "10\n"
     ]
    }
   ],
   "source": [
    "func = lambda **kwargs: kwargs[\"a\"] + kwargs[\"b\"]\n",
    "print(func(a=4,b=6))\n",
    "print(func(**dict(a=4,b=6)))"
   ]
  },
  {
   "cell_type": "markdown",
   "id": "198b6ad6",
   "metadata": {
    "papermill": {
     "duration": 0.01317,
     "end_time": "2023-06-03T14:57:18.203212",
     "exception": false,
     "start_time": "2023-06-03T14:57:18.190042",
     "status": "completed"
    },
    "tags": []
   },
   "source": [
    "## map and filter\n",
    "---\n",
    "**`map()`** and **`filter()`** are built-in functions in Python that are used to solve many complex problems easily.\n",
    "\n",
    "* **`map()`** is used when we want to apply the same function repeatedly on a different set of elements. It is beneficial in solving mathematical problems where we apply the same formula to a different set of values.\n",
    "</br>\n",
    "\n",
    "```python\n",
    "map(func, *iterables) --> map object\n",
    "```\n",
    "\n",
    "\n",
    "* **`filter()`** is used when we want to exclude the elements from the given `list, tuple, or set`. This type of function is mainly used in problems based on `sorting techniques`. We can sort the elements quickly based on the condition using this filter() function.\n",
    "</br>\n",
    "\n",
    "```python\n",
    "filter(function or None, iterable) --> filter object\n",
    "```\n",
    "\n",
    "\n",
    "Both `map()` and `filter()` functions are higher-order functions in Python. A higher-order function is referred to a function whose attributes or parameters are in the form of a function, and it returns output in the form of a function only. These higher-order functions in Python help to solve mathematical and complex analytical problems quickly.\n",
    "\n",
    "The detailed explanation and working of both functions with examples are given below. Both map() and filter() functions are built-in and higher-order functions, but their working is different. The area of application of both functions is different because of their functionality.\n",
    "\n",
    "To understand the functionality of both functions, first, we should know the difference between them. Let’s understand the difference between them in detail.\n",
    "\n",
    "* **`map()`** function always passes all the **elements/iterables** through the **transform function**. The result is printed in the form of a map object for the map() function. We can convert those map objects into a list. The mapping technique is implemented in the map() function. Transform function can take N number of arguments.\n",
    "\n",
    "* **`filter()`** function always checks the condition in terms of Boolean values and then passes elements through the function. The result is printed in the form of a filter object, and those filter objects can be converted into a list. The function used for checking conditions in the filter function must take only one argument."
   ]
  },
  {
   "cell_type": "markdown",
   "id": "dc2a97ff",
   "metadata": {
    "papermill": {
     "duration": 0.013366,
     "end_time": "2023-06-03T14:57:18.230458",
     "exception": false,
     "start_time": "2023-06-03T14:57:18.217092",
     "status": "completed"
    },
    "tags": []
   },
   "source": [
    "### Using `map()` to square a list of numbers:"
   ]
  },
  {
   "cell_type": "code",
   "execution_count": 15,
   "id": "06ad1f5b",
   "metadata": {
    "execution": {
     "iopub.execute_input": "2023-06-03T14:57:18.260353Z",
     "iopub.status.busy": "2023-06-03T14:57:18.259881Z",
     "iopub.status.idle": "2023-06-03T14:57:18.268061Z",
     "shell.execute_reply": "2023-06-03T14:57:18.266464Z"
    },
    "papermill": {
     "duration": 0.026726,
     "end_time": "2023-06-03T14:57:18.270835",
     "exception": false,
     "start_time": "2023-06-03T14:57:18.244109",
     "status": "completed"
    },
    "tags": []
   },
   "outputs": [
    {
     "name": "stdout",
     "output_type": "stream",
     "text": [
      "[4, 16, 36, 64, 81]\n"
     ]
    }
   ],
   "source": [
    "def squared(x):\n",
    "    return x ** 2\n",
    "\n",
    "num_list = [2, 4, 6, 8, 9]\n",
    "\n",
    "num_list_squared = list(map(squared, num_list))\n",
    "print(num_list_squared) # [1, 4, 9, 16, 25]"
   ]
  },
  {
   "cell_type": "markdown",
   "id": "58239f08",
   "metadata": {
    "papermill": {
     "duration": 0.013357,
     "end_time": "2023-06-03T14:57:18.298064",
     "exception": false,
     "start_time": "2023-06-03T14:57:18.284707",
     "status": "completed"
    },
    "tags": []
   },
   "source": [
    "### Using `map()` with a lambda function to convert a list of strings to uppercase:"
   ]
  },
  {
   "cell_type": "code",
   "execution_count": 16,
   "id": "69466d33",
   "metadata": {
    "execution": {
     "iopub.execute_input": "2023-06-03T14:57:18.328090Z",
     "iopub.status.busy": "2023-06-03T14:57:18.327590Z",
     "iopub.status.idle": "2023-06-03T14:57:18.334738Z",
     "shell.execute_reply": "2023-06-03T14:57:18.333440Z"
    },
    "papermill": {
     "duration": 0.025572,
     "end_time": "2023-06-03T14:57:18.337689",
     "exception": false,
     "start_time": "2023-06-03T14:57:18.312117",
     "status": "completed"
    },
    "tags": []
   },
   "outputs": [
    {
     "name": "stdout",
     "output_type": "stream",
     "text": [
      "['APPLE', 'BANANA', 'PEAR', 'APRICOT', 'ORANGE']\n"
     ]
    }
   ],
   "source": [
    "fruit = [\"apple\", \"banana\", \"pear\", \"apricot\", \"orange\"]\n",
    "\n",
    "fruit_upper = list(map(lambda s: s.upper(), fruit))\n",
    "print(fruit_upper) # ['APPLE', 'BANANA', 'PEAR', 'APRICOT', 'ORANGE']"
   ]
  },
  {
   "cell_type": "markdown",
   "id": "b0e3be88",
   "metadata": {
    "papermill": {
     "duration": 0.013501,
     "end_time": "2023-06-03T14:57:18.365124",
     "exception": false,
     "start_time": "2023-06-03T14:57:18.351623",
     "status": "completed"
    },
    "tags": []
   },
   "source": [
    "### Using `filter()` to filter out even numbers from a list:"
   ]
  },
  {
   "cell_type": "code",
   "execution_count": 17,
   "id": "4c099617",
   "metadata": {
    "execution": {
     "iopub.execute_input": "2023-06-03T14:57:18.395959Z",
     "iopub.status.busy": "2023-06-03T14:57:18.395506Z",
     "iopub.status.idle": "2023-06-03T14:57:18.402029Z",
     "shell.execute_reply": "2023-06-03T14:57:18.401022Z"
    },
    "papermill": {
     "duration": 0.025596,
     "end_time": "2023-06-03T14:57:18.405276",
     "exception": false,
     "start_time": "2023-06-03T14:57:18.379680",
     "status": "completed"
    },
    "tags": []
   },
   "outputs": [
    {
     "name": "stdout",
     "output_type": "stream",
     "text": [
      "[2, 4]\n"
     ]
    }
   ],
   "source": [
    "def is_even(x):\n",
    "    return x % 2 == 0\n",
    "\n",
    "num_list = [1, 2, 3, 4, 5]\n",
    "\n",
    "num_list_even = list(filter(is_even, num_list))\n",
    "print(num_list_even) # [2, 4]"
   ]
  },
  {
   "cell_type": "markdown",
   "id": "2cffc189",
   "metadata": {
    "papermill": {
     "duration": 0.013511,
     "end_time": "2023-06-03T14:57:18.432768",
     "exception": false,
     "start_time": "2023-06-03T14:57:18.419257",
     "status": "completed"
    },
    "tags": []
   },
   "source": [
    "### Using `filter()` with a lambda function to filter out words that start with “A” from a list:"
   ]
  },
  {
   "cell_type": "code",
   "execution_count": 18,
   "id": "26b2365d",
   "metadata": {
    "execution": {
     "iopub.execute_input": "2023-06-03T14:57:18.464202Z",
     "iopub.status.busy": "2023-06-03T14:57:18.463696Z",
     "iopub.status.idle": "2023-06-03T14:57:18.470620Z",
     "shell.execute_reply": "2023-06-03T14:57:18.469634Z"
    },
    "papermill": {
     "duration": 0.026548,
     "end_time": "2023-06-03T14:57:18.474000",
     "exception": false,
     "start_time": "2023-06-03T14:57:18.447452",
     "status": "completed"
    },
    "tags": []
   },
   "outputs": [
    {
     "name": "stdout",
     "output_type": "stream",
     "text": [
      "['apple', 'apricot']\n"
     ]
    }
   ],
   "source": [
    "fruit = [\"apple\", \"banana\", \"pear\", \"apricot\", \"orange\"]\n",
    "fruit_A = list(filter(lambda s: s[0].upper() == \"A\", fruit))\n",
    "print(fruit_A) # ['apple', 'apricot']"
   ]
  },
  {
   "cell_type": "code",
   "execution_count": null,
   "id": "5dc17ddf",
   "metadata": {
    "papermill": {
     "duration": 0.013562,
     "end_time": "2023-06-03T14:57:18.501624",
     "exception": false,
     "start_time": "2023-06-03T14:57:18.488062",
     "status": "completed"
    },
    "tags": []
   },
   "outputs": [],
   "source": []
  }
 ],
 "metadata": {
  "kernelspec": {
   "display_name": "Python 3",
   "language": "python",
   "name": "python3"
  },
  "language_info": {
   "codemirror_mode": {
    "name": "ipython",
    "version": 3
   },
   "file_extension": ".py",
   "mimetype": "text/x-python",
   "name": "python",
   "nbconvert_exporter": "python",
   "pygments_lexer": "ipython3",
   "version": "3.7.12"
  },
  "papermill": {
   "default_parameters": {},
   "duration": 16.639313,
   "end_time": "2023-06-03T14:57:19.239916",
   "environment_variables": {},
   "exception": null,
   "input_path": "__notebook__.ipynb",
   "output_path": "__notebook__.ipynb",
   "parameters": {},
   "start_time": "2023-06-03T14:57:02.600603",
   "version": "2.4.0"
  }
 },
 "nbformat": 4,
 "nbformat_minor": 5
}
