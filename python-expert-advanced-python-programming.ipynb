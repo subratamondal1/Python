{
 "cells": [
  {
   "cell_type": "code",
   "execution_count": 1,
   "id": "ab681039",
   "metadata": {
    "_cell_guid": "b1076dfc-b9ad-4769-8c92-a6c4dae69d19",
    "_uuid": "8f2839f25d086af736a60e9eeb907d3b93b6e0e5",
    "execution": {
     "iopub.execute_input": "2023-06-03T14:45:03.111336Z",
     "iopub.status.busy": "2023-06-03T14:45:03.110840Z",
     "iopub.status.idle": "2023-06-03T14:45:03.125621Z",
     "shell.execute_reply": "2023-06-03T14:45:03.124204Z"
    },
    "papermill": {
     "duration": 0.035866,
     "end_time": "2023-06-03T14:45:03.129593",
     "exception": false,
     "start_time": "2023-06-03T14:45:03.093727",
     "status": "completed"
    },
    "tags": []
   },
   "outputs": [],
   "source": [
    "# This Python 3 environment comes with many helpful analytics libraries installed\n",
    "# It is defined by the kaggle/python Docker image: https://github.com/kaggle/docker-python\n",
    "# For example, here's several helpful packages to load\n",
    "\n",
    "import numpy as np # linear algebra\n",
    "import pandas as pd # data processing, CSV file I/O (e.g. pd.read_csv)\n",
    "\n",
    "# Input data files are available in the read-only \"../input/\" directory\n",
    "# For example, running this (by clicking run or pressing Shift+Enter) will list all files under the input directory\n",
    "\n",
    "import os\n",
    "for dirname, _, filenames in os.walk('/kaggle/input'):\n",
    "    for filename in filenames:\n",
    "        print(os.path.join(dirname, filename))\n",
    "\n",
    "# You can write up to 20GB to the current directory (/kaggle/working/) that gets preserved as output when you create a version using \"Save & Run All\" \n",
    "# You can also write temporary files to /kaggle/temp/, but they won't be saved outside of the current session"
   ]
  },
  {
   "cell_type": "markdown",
   "id": "4bf6efe4",
   "metadata": {
    "papermill": {
     "duration": 0.01271,
     "end_time": "2023-06-03T14:45:03.155603",
     "exception": false,
     "start_time": "2023-06-03T14:45:03.142893",
     "status": "completed"
    },
    "tags": []
   },
   "source": [
    "# <center>Advanced Python Programming</center>\n",
    "---"
   ]
  },
  {
   "cell_type": "markdown",
   "id": "4fea67ec",
   "metadata": {
    "papermill": {
     "duration": 0.012067,
     "end_time": "2023-06-03T14:45:03.180403",
     "exception": false,
     "start_time": "2023-06-03T14:45:03.168336",
     "status": "completed"
    },
    "tags": []
   },
   "source": [
    "## Modules and Packages\n",
    "---\n",
    "**`Modules :`** are any file that ends with the extension **`.py`**.\n",
    "\n",
    "**`Packages :`** are directory that contains collection of python modules. And the directory must contain a module named **`__init__.py`** to be considered as a package.\n"
   ]
  },
  {
   "cell_type": "markdown",
   "id": "fb44afc8",
   "metadata": {
    "papermill": {
     "duration": 0.01248,
     "end_time": "2023-06-03T14:45:03.205965",
     "exception": false,
     "start_time": "2023-06-03T14:45:03.193485",
     "status": "completed"
    },
    "tags": []
   },
   "source": [
    "### The `__main__` module\n",
    "---\n",
    "The main module in Python is the source file where the program execution starts. Every Python program has a **`__main__`** module, and the code within that module is executed when the program is run. The **`__main__`** module can be located in any file, but it is typically placed in a file named **`main.py`**.\n",
    "\n",
    "The **`__main__`** module can be checked using the expression **`__name__ == '__main__'`**, which evaluates to True when the module is executed as a script, and to False when the module is imported by another module. This allows a common idiom for conditionally executing code when the module is not initialized from an import statement:\n",
    "\n",
    "**`Note:`** modules that are imported can't be named as **`main`**."
   ]
  },
  {
   "cell_type": "code",
   "execution_count": 2,
   "id": "cb3c010c",
   "metadata": {
    "execution": {
     "iopub.execute_input": "2023-06-03T14:45:03.235889Z",
     "iopub.status.busy": "2023-06-03T14:45:03.234965Z",
     "iopub.status.idle": "2023-06-03T14:45:03.242614Z",
     "shell.execute_reply": "2023-06-03T14:45:03.241281Z"
    },
    "papermill": {
     "duration": 0.026325,
     "end_time": "2023-06-03T14:45:03.245668",
     "exception": false,
     "start_time": "2023-06-03T14:45:03.219343",
     "status": "completed"
    },
    "tags": []
   },
   "outputs": [
    {
     "name": "stdout",
     "output_type": "stream",
     "text": [
      "ok\n"
     ]
    }
   ],
   "source": [
    "if __name__ == '__main__':\n",
    "    # Execute when the module is not initialized from an import statement.\n",
    "    print(\"ok\")"
   ]
  },
  {
   "cell_type": "markdown",
   "id": "c6ca6b0b",
   "metadata": {
    "papermill": {
     "duration": 0.013376,
     "end_time": "2023-06-03T14:45:03.272513",
     "exception": false,
     "start_time": "2023-06-03T14:45:03.259137",
     "status": "completed"
    },
    "tags": []
   },
   "source": [
    "This code pattern is quite common in Python files that you want to be executed as a script and imported in another module."
   ]
  },
  {
   "cell_type": "markdown",
   "id": "1c5181a0",
   "metadata": {
    "papermill": {
     "duration": 0.012341,
     "end_time": "2023-06-03T14:45:03.297936",
     "exception": false,
     "start_time": "2023-06-03T14:45:03.285595",
     "status": "completed"
    },
    "tags": []
   },
   "source": [
    "## Files\n",
    "---\n",
    "reading files, creating files, writing to files, appending to files.\n",
    "\n",
    "\n",
    "To read files in Python, you need to use the `open()` function to open a file object and then use the `read()`, `readline()` or `readlines()` methods to read its contents.\n",
    "\n",
    "### Modes of `open` file object\n",
    "The modes of the `open()` function specify how the file will be opened and what operations can be performed on it. The modes are:\n",
    "\n",
    "* **`‘r’`**: Opens a file for reading only. The file pointer is placed at the beginning of the file. This is the default mode.\n",
    "* **`‘r+’`**: Opens a file for both reading and writing. The file pointer is placed at the beginning of the file.\n",
    "* **`‘w’`**: Opens a file for writing only. `Overwrites the file if the file exists. If the file does not exist, creates a new file for writing.`\n",
    "* **`‘w+’`**: Opens a file for both writing and reading. Overwrites the existing file if the file exists. If the file does not exist, creates a new file for reading and writing.\n",
    "* **`‘a’`**: Opens a file for appending. The file pointer is at the end of the file if the file exists. That is, the file is in the append mode. If the file does not exist, it creates a new file for writing.\n",
    "* **`‘a+’`**: Opens a file for both appending and reading. The file pointer is at the end of the file if the file exists. The file opens in the append mode. If the file does not exist, it creates a new file for reading and writing.</br>\n",
    "You can also add a `‘b’` to any of these modes to open the file in **binary mode**, which means that the data is read and written as bytes objects. This is useful for non-text files such as **images or audio files**.\n",
    "\n",
    "```python\n",
    "# open a file in read mode\n",
    "file = open(\"test.txt\", \"r\")\n",
    "\n",
    "# read the whole file and returns all the content as a single string\n",
    "print(file.read()) \n",
    "\n",
    "# close the file\n",
    "file.close()\n",
    "```\n",
    "\n",
    "You can also use the `with` keyword to automatically close the file after reading. \n",
    "\n",
    "```python\n",
    "# use with keyword to open and close a file\n",
    "with open(\"test.txt\", \"r\") as file:\n",
    "    # read the whole file and returns all the content as a single string\n",
    "    print(file.read())\n",
    "```\n",
    "\n",
    "### Built-in methods of `open` file object\n",
    "* **`read(size)`**: It reads up to size bytes from the file and returns a string. If size is omitted or negative, it reads until the end of the file.\n",
    "* **`readline(size)`**: It reads one line from the file and returns a string. If size is given, it reads at most size bytes from the line. An empty string is returned when the end of the file is reached.\n",
    "* **`readlines(sizehint)`**: It reads all the lines from the file and returns a list of strings. If sizehint is given, it reads approximately sizehint bytes from the file and splits them into lines.\n",
    "* **`write(string)`**: It writes the string to the file and returns None. It does not add a newline character at the end of the string.\n",
    "* **`writelines(lines)`**: It writes a list of strings to the file and returns None. It does not add newline characters at the end of each string.\n",
    "* **`close()`**: It closes the file and frees up any system resources used by it. It is recommended to use this method after finishing any file operations.\n",
    "* **`flush()`**: It forces any buffered data to be written to the file. This can be useful when you want to ensure that the data is written immediately without waiting for buffering.\n",
    "* **`seek(offset, whence)`**: It changes the cursor location in the file or the current file position to offset bytes, relative to whence. The whence argument can be 0 (start of the file), 1 (current position), or 2 (end of the file). It returns the new file position in bytes. The `seek()` method of the file object allows you to change the current position of the file pointer within the file. The file pointer is like a cursor that indicates where the next read or write operation will take place. The `seek()` method takes two parameters:\n",
    "    * `offset:` This is a number of bytes to move the file pointer from the reference point. It can be positive (move forward) or negative (move backward).\n",
    "    * `whence:` This is an optional parameter that specifies the reference point from which to move the file pointer. It can be one of the following values:\n",
    "        * `0`: The beginning of the file (default)\n",
    "        * `1`: The current position of the file pointer\n",
    "        * `2`: The end of the file</br>\n",
    "The `seek()` method returns None and does not raise any exception if the operation is successful. However, it may raise an OSError if the file is not opened in binary mode and whence is not 0 or offset is not 0.\n",
    "\n",
    "```python\n",
    "# open the file in read mode\n",
    "f = open(\"test.txt\", \"r\")\n",
    "\n",
    "# move the file pointer to the 6th byte from the beginning\n",
    "f.seek(6)\n",
    "# read 5 bytes from that position\n",
    "print(f.read(5)) # output: world\n",
    "\n",
    "# move the file pointer to the 3rd byte from the end\n",
    "f.seek(-3, 2)\n",
    "# read 3 bytes from that position\n",
    "print(f.read(3)) # output: ile\n",
    "\n",
    "# move the file pointer to the 8th byte from the current position\n",
    "f.seek(8, 1)\n",
    "# read one line from that position\n",
    "print(f.readline()) # output: This is a test file.\n",
    "\n",
    "# close the file\n",
    "f.close()\n",
    "```\n",
    "\n",
    "* **`tell()`**: It returns the current file position in bytes."
   ]
  },
  {
   "cell_type": "markdown",
   "id": "b5d292e2",
   "metadata": {
    "papermill": {
     "duration": 0.012408,
     "end_time": "2023-06-03T14:45:03.324592",
     "exception": false,
     "start_time": "2023-06-03T14:45:03.312184",
     "status": "completed"
    },
    "tags": []
   },
   "source": [
    "## args and kwargs\n",
    "---\n",
    "**`*args`** in Python is a special parameter that allows a function to take a variable number of arguments without specifying them in advance. Args stands for arguments, and it is usually preceded by an asterisk (`*`) in the function definition. For example:"
   ]
  },
  {
   "cell_type": "code",
   "execution_count": 3,
   "id": "9876c750",
   "metadata": {
    "execution": {
     "iopub.execute_input": "2023-06-03T14:45:03.353777Z",
     "iopub.status.busy": "2023-06-03T14:45:03.352824Z",
     "iopub.status.idle": "2023-06-03T14:45:03.363540Z",
     "shell.execute_reply": "2023-06-03T14:45:03.361226Z"
    },
    "papermill": {
     "duration": 0.028723,
     "end_time": "2023-06-03T14:45:03.366403",
     "exception": false,
     "start_time": "2023-06-03T14:45:03.337680",
     "status": "completed"
    },
    "tags": []
   },
   "outputs": [
    {
     "name": "stdout",
     "output_type": "stream",
     "text": [
      "6\n",
      "9\n",
      "6\n",
      "0\n"
     ]
    }
   ],
   "source": [
    "def add(*args):\n",
    "    # args is a tuple of all the arguments passed\n",
    "    total = 0\n",
    "    for num in args:\n",
    "        total += num\n",
    "    return total\n",
    "\n",
    "print(add(1, 2, 3)) # output: 6\n",
    "print(add(4, 5)) # output: 9\n",
    "print(add(6)) # output: 6\n",
    "print(add()) # output: 0"
   ]
  },
  {
   "cell_type": "markdown",
   "id": "e92466e1",
   "metadata": {
    "papermill": {
     "duration": 0.013709,
     "end_time": "2023-06-03T14:45:03.393470",
     "exception": false,
     "start_time": "2023-06-03T14:45:03.379761",
     "status": "completed"
    },
    "tags": []
   },
   "source": [
    "In this example, the add function can take any number of arguments and return their sum. The args parameter is a tuple that contains all the arguments passed to the function. You can use a for loop to iterate over args and perform any operation you want.\n",
    "\n",
    "The name args is just a convention and you can use any other name as long as it is preceded by an asterisk (`*`). However, it is recommended to use args as it is more readable and widely used.\n",
    "\n",
    "\n",
    "**`kwargs`** in Python is a special parameter that allows a function to take a variable number of keyword arguments without specifying them in advance. kwargs stands for keyword arguments, and it is usually preceded by two asterisks (`**`) in the function definition. For example:"
   ]
  },
  {
   "cell_type": "code",
   "execution_count": 4,
   "id": "bd3cd29e",
   "metadata": {
    "execution": {
     "iopub.execute_input": "2023-06-03T14:45:03.422808Z",
     "iopub.status.busy": "2023-06-03T14:45:03.421328Z",
     "iopub.status.idle": "2023-06-03T14:45:03.429904Z",
     "shell.execute_reply": "2023-06-03T14:45:03.428518Z"
    },
    "papermill": {
     "duration": 0.02604,
     "end_time": "2023-06-03T14:45:03.432547",
     "exception": false,
     "start_time": "2023-06-03T14:45:03.406507",
     "status": "completed"
    },
    "tags": []
   },
   "outputs": [
    {
     "name": "stdout",
     "output_type": "stream",
     "text": [
      "name = Alice\n",
      "age = 25\n",
      "city = New York\n",
      "country = USA\n"
     ]
    }
   ],
   "source": [
    "def greet(**kwargs):\n",
    "    # kwargs is a dictionary of all the keyword arguments passed\n",
    "    for key, value in kwargs.items():\n",
    "        print(f\"{key} = {value}\")\n",
    "\n",
    "greet(name=\"Alice\", age=25) # output: name = Alice, age = 25\n",
    "greet(city=\"New York\", country=\"USA\") # output: city = New York, country = USA\n",
    "greet() # output: nothing"
   ]
  },
  {
   "cell_type": "markdown",
   "id": "de41ecc5",
   "metadata": {
    "papermill": {
     "duration": 0.012386,
     "end_time": "2023-06-03T14:45:03.457753",
     "exception": false,
     "start_time": "2023-06-03T14:45:03.445367",
     "status": "completed"
    },
    "tags": []
   },
   "source": [
    "In this example, the greet function can take any number of keyword arguments and print them as key-value pairs. `The kwargs parameter is a dictionary` that contains all the keyword arguments passed to the function. You can use a for loop to iterate over `kwargs.items()` and access the keys and values.\n",
    "\n",
    "The name kwargs is just a convention and you can use any other name as long as it is preceded by two asterisks (`**`). However, it is recommended to use kwargs as it is more readable and widely used."
   ]
  },
  {
   "cell_type": "markdown",
   "id": "9f79d0a4",
   "metadata": {
    "papermill": {
     "duration": 0.012374,
     "end_time": "2023-06-03T14:45:03.482904",
     "exception": false,
     "start_time": "2023-06-03T14:45:03.470530",
     "status": "completed"
    },
    "tags": []
   },
   "source": [
    "### Unpack/Splat operator\n",
    "The unpack operator in Python is the asterisk (`*`) symbol that can be used to unpack an iterable object such as a list, a tuple, a set, or a dictionary into individual elements. For example:"
   ]
  },
  {
   "cell_type": "code",
   "execution_count": 5,
   "id": "ff223c22",
   "metadata": {
    "execution": {
     "iopub.execute_input": "2023-06-03T14:45:03.510902Z",
     "iopub.status.busy": "2023-06-03T14:45:03.510396Z",
     "iopub.status.idle": "2023-06-03T14:45:03.521052Z",
     "shell.execute_reply": "2023-06-03T14:45:03.519401Z"
    },
    "papermill": {
     "duration": 0.02813,
     "end_time": "2023-06-03T14:45:03.524126",
     "exception": false,
     "start_time": "2023-06-03T14:45:03.495996",
     "status": "completed"
    },
    "tags": []
   },
   "outputs": [
    {
     "name": "stdout",
     "output_type": "stream",
     "text": [
      "1\n",
      "2\n",
      "3\n",
      "4\n",
      "5\n",
      "8\n",
      "9\n",
      "6\n",
      "7\n",
      "name\n",
      "age\n"
     ]
    }
   ],
   "source": [
    "# unpack a list into three variables\n",
    "a, b, c = [1, 2, 3]\n",
    "print(a) # output: 1\n",
    "print(b) # output: 2\n",
    "print(c) # output: 3\n",
    "\n",
    "# unpack a tuple into two variables\n",
    "x, y = (4, 5)\n",
    "print(x) # output: 4\n",
    "print(y) # output: 5\n",
    "\n",
    "# unpack a set into four variables\n",
    "p, q, r, s = {6, 7, 8, 9}\n",
    "print(p) # output: 6\n",
    "print(q) # output: 7\n",
    "print(r) # output: 8\n",
    "print(s) # output: 9\n",
    "\n",
    "# unpack a dictionary into two variables\n",
    "key, value = {\"name\": \"Alice\",\"age\":23}\n",
    "print(key) # output: name\n",
    "print(value) # output: Alice"
   ]
  },
  {
   "cell_type": "markdown",
   "id": "abafaf98",
   "metadata": {
    "papermill": {
     "duration": 0.012311,
     "end_time": "2023-06-03T14:45:03.549227",
     "exception": false,
     "start_time": "2023-06-03T14:45:03.536916",
     "status": "completed"
    },
    "tags": []
   },
   "source": [
    "The unpack operator can also be used with the `*` symbol to unpack an iterable object into multiple arguments for a function call. For example:"
   ]
  },
  {
   "cell_type": "code",
   "execution_count": 6,
   "id": "4e7fc4d5",
   "metadata": {
    "execution": {
     "iopub.execute_input": "2023-06-03T14:45:03.576878Z",
     "iopub.status.busy": "2023-06-03T14:45:03.576357Z",
     "iopub.status.idle": "2023-06-03T14:45:03.584514Z",
     "shell.execute_reply": "2023-06-03T14:45:03.582899Z"
    },
    "papermill": {
     "duration": 0.025476,
     "end_time": "2023-06-03T14:45:03.587400",
     "exception": false,
     "start_time": "2023-06-03T14:45:03.561924",
     "status": "completed"
    },
    "tags": []
   },
   "outputs": [
    {
     "name": "stdout",
     "output_type": "stream",
     "text": [
      "10 20 30\n"
     ]
    }
   ],
   "source": [
    "# define a function that takes three arguments and prints them\n",
    "def print_args(a, b, c):\n",
    "    print(a, b, c)\n",
    "\n",
    "# create a list with three elements\n",
    "args = [10, 20, 30]\n",
    "\n",
    "# use the * symbol to unpack the list into arguments for the function call\n",
    "print_args(*args) # output: 10 20 30"
   ]
  },
  {
   "cell_type": "markdown",
   "id": "08c9e31f",
   "metadata": {
    "papermill": {
     "duration": 0.012506,
     "end_time": "2023-06-03T14:45:03.612692",
     "exception": false,
     "start_time": "2023-06-03T14:45:03.600186",
     "status": "completed"
    },
    "tags": []
   },
   "source": [
    "The unpack operator can also be used with the `*` symbol to unpack an iterable object into another iterable object such as a list or a tuple. For example:"
   ]
  },
  {
   "cell_type": "code",
   "execution_count": 7,
   "id": "c969f01e",
   "metadata": {
    "execution": {
     "iopub.execute_input": "2023-06-03T14:45:03.640228Z",
     "iopub.status.busy": "2023-06-03T14:45:03.639823Z",
     "iopub.status.idle": "2023-06-03T14:45:03.647712Z",
     "shell.execute_reply": "2023-06-03T14:45:03.646278Z"
    },
    "papermill": {
     "duration": 0.025244,
     "end_time": "2023-06-03T14:45:03.650701",
     "exception": false,
     "start_time": "2023-06-03T14:45:03.625457",
     "status": "completed"
    },
    "tags": []
   },
   "outputs": [
    {
     "name": "stdout",
     "output_type": "stream",
     "text": [
      "[1, 2, 3, 4, 5, 6]\n",
      "(1, 2, 3, 4, 5, 6)\n"
     ]
    }
   ],
   "source": [
    "# create two lists\n",
    "list1 = [1, 2, 3]\n",
    "list2 = [4, 5, 6]\n",
    "\n",
    "# use the * symbol to unpack the lists into a new list\n",
    "list3 = [*list1, *list2]\n",
    "print(list3) # output: [1, 2, 3, 4, 5, 6]\n",
    "\n",
    "# use the * symbol to unpack the lists into a new tuple\n",
    "tuple1 = (*list1, *list2)\n",
    "print(tuple1) # output: (1, 2, 3, 4, 5, 6)"
   ]
  },
  {
   "cell_type": "markdown",
   "id": "1b5923be",
   "metadata": {
    "papermill": {
     "duration": 0.012297,
     "end_time": "2023-06-03T14:45:03.675709",
     "exception": false,
     "start_time": "2023-06-03T14:45:03.663412",
     "status": "completed"
    },
    "tags": []
   },
   "source": [
    "### unpack dictionary\n",
    "To unpack a dictionary in Python, you can use the double asterisk (`**`) operator that can be used to unpack a dictionary into key-value pairs. For example:"
   ]
  },
  {
   "cell_type": "code",
   "execution_count": 8,
   "id": "940776c0",
   "metadata": {
    "execution": {
     "iopub.execute_input": "2023-06-03T14:45:03.703982Z",
     "iopub.status.busy": "2023-06-03T14:45:03.703488Z",
     "iopub.status.idle": "2023-06-03T14:45:03.711179Z",
     "shell.execute_reply": "2023-06-03T14:45:03.709426Z"
    },
    "papermill": {
     "duration": 0.025523,
     "end_time": "2023-06-03T14:45:03.714022",
     "exception": false,
     "start_time": "2023-06-03T14:45:03.688499",
     "status": "completed"
    },
    "tags": []
   },
   "outputs": [
    {
     "name": "stdout",
     "output_type": "stream",
     "text": [
      "Hello, Alice. You are 25 years old.\n"
     ]
    }
   ],
   "source": [
    "# create a dictionary\n",
    "d = {\"name\": \"Alice\", \"age\": 25}\n",
    "\n",
    "# use the ** operator to unpack the dictionary into keyword arguments for a function call\n",
    "def greet(name, age):\n",
    "    print(f\"Hello, {name}. You are {age} years old.\")\n",
    "\n",
    "greet(**d) # output: Hello, Alice. You are 25 years old."
   ]
  },
  {
   "cell_type": "markdown",
   "id": "051c86f0",
   "metadata": {
    "papermill": {
     "duration": 0.012557,
     "end_time": "2023-06-03T14:45:03.739678",
     "exception": false,
     "start_time": "2023-06-03T14:45:03.727121",
     "status": "completed"
    },
    "tags": []
   },
   "source": [
    "In this example, the `**` operator unpacks the dictionary d and passes its key-value pairs as keyword arguments to the greet function.\n",
    "\n",
    "\n",
    "You can also use the `**` operator to unpack a dictionary into another dictionary. For example:"
   ]
  },
  {
   "cell_type": "code",
   "execution_count": 9,
   "id": "956ab076",
   "metadata": {
    "execution": {
     "iopub.execute_input": "2023-06-03T14:45:03.767355Z",
     "iopub.status.busy": "2023-06-03T14:45:03.766943Z",
     "iopub.status.idle": "2023-06-03T14:45:03.774662Z",
     "shell.execute_reply": "2023-06-03T14:45:03.773210Z"
    },
    "papermill": {
     "duration": 0.025056,
     "end_time": "2023-06-03T14:45:03.777632",
     "exception": false,
     "start_time": "2023-06-03T14:45:03.752576",
     "status": "completed"
    },
    "tags": []
   },
   "outputs": [
    {
     "name": "stdout",
     "output_type": "stream",
     "text": [
      "{'a': 1, 'b': 2, 'c': 3, 'd': 4}\n"
     ]
    }
   ],
   "source": [
    "# create two dictionaries\n",
    "d1 = {\"a\": 1, \"b\": 2}\n",
    "d2 = {\"c\": 3, \"d\": 4}\n",
    "\n",
    "# use the ** operator to unpack the dictionaries into a new dictionary\n",
    "d3 = {**d1, **d2}\n",
    "print(d3) # output: {'a': 1, 'b': 2, 'c': 3, 'd': 4}"
   ]
  },
  {
   "cell_type": "markdown",
   "id": "4eef41da",
   "metadata": {
    "papermill": {
     "duration": 0.012806,
     "end_time": "2023-06-03T14:45:03.803587",
     "exception": false,
     "start_time": "2023-06-03T14:45:03.790781",
     "status": "completed"
    },
    "tags": []
   },
   "source": [
    "In this example, the `**` operator unpacks both `d1` and `d2` and merges them into a new dictionary `d3`."
   ]
  },
  {
   "cell_type": "markdown",
   "id": "328a517c",
   "metadata": {
    "papermill": {
     "duration": 0.012568,
     "end_time": "2023-06-03T14:45:03.829369",
     "exception": false,
     "start_time": "2023-06-03T14:45:03.816801",
     "status": "completed"
    },
    "tags": []
   },
   "source": [
    "## Lambda Function\n",
    "---\n",
    "A Python lambda function is a small **anonymous function** that can take **any number of arguments**, but can only have **one expression**. It has the following syntax:\n",
    "```python\n",
    "lambda arguments: expression # the expression is evaluated and returned automatically\n",
    "```\n",
    "* Lambda functions are useful when you need a short function that you don’t want to name or define separately. \n",
    "* Lambda functions are often used as arguments to other functions that expect a function object, such as `map, filter, or sort`."
   ]
  },
  {
   "cell_type": "code",
   "execution_count": 10,
   "id": "a36eea85",
   "metadata": {
    "execution": {
     "iopub.execute_input": "2023-06-03T14:45:03.857751Z",
     "iopub.status.busy": "2023-06-03T14:45:03.857059Z",
     "iopub.status.idle": "2023-06-03T14:45:03.864788Z",
     "shell.execute_reply": "2023-06-03T14:45:03.863350Z"
    },
    "papermill": {
     "duration": 0.025301,
     "end_time": "2023-06-03T14:45:03.867708",
     "exception": false,
     "start_time": "2023-06-03T14:45:03.842407",
     "status": "completed"
    },
    "tags": []
   },
   "outputs": [
    {
     "name": "stdout",
     "output_type": "stream",
     "text": [
      "9\n",
      "15\n"
     ]
    }
   ],
   "source": [
    "func = lambda x,y,z = 0: x + y + z\n",
    "print(func(4,5))\n",
    "print(func(4,5,6))"
   ]
  },
  {
   "cell_type": "markdown",
   "id": "0b03300b",
   "metadata": {
    "papermill": {
     "duration": 0.012948,
     "end_time": "2023-06-03T14:45:03.893704",
     "exception": false,
     "start_time": "2023-06-03T14:45:03.880756",
     "status": "completed"
    },
    "tags": []
   },
   "source": [
    "### use case of lambda function\n",
    "#### sort the list of tuples by it's second element\n"
   ]
  },
  {
   "cell_type": "code",
   "execution_count": 11,
   "id": "8ebe24ef",
   "metadata": {
    "execution": {
     "iopub.execute_input": "2023-06-03T14:45:03.921975Z",
     "iopub.status.busy": "2023-06-03T14:45:03.921553Z",
     "iopub.status.idle": "2023-06-03T14:45:03.929519Z",
     "shell.execute_reply": "2023-06-03T14:45:03.927921Z"
    },
    "papermill": {
     "duration": 0.025445,
     "end_time": "2023-06-03T14:45:03.932397",
     "exception": false,
     "start_time": "2023-06-03T14:45:03.906952",
     "status": "completed"
    },
    "tags": []
   },
   "outputs": [
    {
     "name": "stdout",
     "output_type": "stream",
     "text": [
      "[(4, -6), (2, 3), (2, 4), (1, 4), (4, 8)]\n"
     ]
    }
   ],
   "source": [
    "list_of_tuples = [(2,4),(4,-6),(4,8),(2,3),(1,4)]\n",
    "list_of_tuples.sort(key=lambda x : x[1])\n",
    "print(list_of_tuples)"
   ]
  },
  {
   "cell_type": "markdown",
   "id": "84ca450b",
   "metadata": {
    "papermill": {
     "duration": 0.012726,
     "end_time": "2023-06-03T14:45:03.958318",
     "exception": false,
     "start_time": "2023-06-03T14:45:03.945592",
     "status": "completed"
    },
    "tags": []
   },
   "source": [
    "### nested lambda function"
   ]
  },
  {
   "cell_type": "code",
   "execution_count": 12,
   "id": "30a6bc6a",
   "metadata": {
    "execution": {
     "iopub.execute_input": "2023-06-03T14:45:03.986588Z",
     "iopub.status.busy": "2023-06-03T14:45:03.986139Z",
     "iopub.status.idle": "2023-06-03T14:45:03.995989Z",
     "shell.execute_reply": "2023-06-03T14:45:03.994501Z"
    },
    "papermill": {
     "duration": 0.027731,
     "end_time": "2023-06-03T14:45:03.999279",
     "exception": false,
     "start_time": "2023-06-03T14:45:03.971548",
     "status": "completed"
    },
    "tags": []
   },
   "outputs": [
    {
     "name": "stdout",
     "output_type": "stream",
     "text": [
      "<function <lambda>.<locals>.<lambda> at 0x7ac476152950>\n",
      "40\n",
      "<---><---><---><---><---><---><---><---><---><---><---><---><---><---><---><---><---><---><---><--->\n",
      "<function multiplication1.<locals>.multiplication2 at 0x7ac476152c20>\n",
      "40\n",
      "<---><---><---><---><---><---><---><---><---><---><---><---><---><---><---><---><---><---><---><--->\n",
      "40\n"
     ]
    }
   ],
   "source": [
    "multiplication = lambda x: lambda y: x * y\n",
    "result = multiplication(5)\n",
    "print(result)\n",
    "print(result(8))\n",
    "print(\"<--->\"*20)\n",
    "\n",
    "# same as above\n",
    "def multiplication1(x):\n",
    "    def multiplication2(y):\n",
    "        return x * y\n",
    "    return multiplication2\n",
    "\n",
    "result = multiplication1(5)\n",
    "print(result)\n",
    "print(result(8))\n",
    "print(\"<--->\"*20)\n",
    "\n",
    "result = multiplication1(5)(8)\n",
    "print(result)"
   ]
  },
  {
   "cell_type": "markdown",
   "id": "de6a7c41",
   "metadata": {
    "papermill": {
     "duration": 0.012971,
     "end_time": "2023-06-03T14:45:04.026679",
     "exception": false,
     "start_time": "2023-06-03T14:45:04.013708",
     "status": "completed"
    },
    "tags": []
   },
   "source": [
    "### lambda function with `*args and splat/unpack` operator"
   ]
  },
  {
   "cell_type": "code",
   "execution_count": 13,
   "id": "c3b4957c",
   "metadata": {
    "execution": {
     "iopub.execute_input": "2023-06-03T14:45:04.055896Z",
     "iopub.status.busy": "2023-06-03T14:45:04.055389Z",
     "iopub.status.idle": "2023-06-03T14:45:04.063002Z",
     "shell.execute_reply": "2023-06-03T14:45:04.061421Z"
    },
    "papermill": {
     "duration": 0.026152,
     "end_time": "2023-06-03T14:45:04.066185",
     "exception": false,
     "start_time": "2023-06-03T14:45:04.040033",
     "status": "completed"
    },
    "tags": []
   },
   "outputs": [
    {
     "name": "stdout",
     "output_type": "stream",
     "text": [
      "6\n",
      "6\n"
     ]
    }
   ],
   "source": [
    "func = lambda *args: sum(args)\n",
    "print(func(1,2,3))\n",
    "print(func(*[1,2,3]))"
   ]
  },
  {
   "cell_type": "markdown",
   "id": "59b2b554",
   "metadata": {
    "papermill": {
     "duration": 0.013834,
     "end_time": "2023-06-03T14:45:04.094521",
     "exception": false,
     "start_time": "2023-06-03T14:45:04.080687",
     "status": "completed"
    },
    "tags": []
   },
   "source": [
    "### lambda function with `**kwargs and splat/unpack` operator"
   ]
  },
  {
   "cell_type": "code",
   "execution_count": 14,
   "id": "c918da43",
   "metadata": {
    "execution": {
     "iopub.execute_input": "2023-06-03T14:45:04.126651Z",
     "iopub.status.busy": "2023-06-03T14:45:04.126175Z",
     "iopub.status.idle": "2023-06-03T14:45:04.133801Z",
     "shell.execute_reply": "2023-06-03T14:45:04.132516Z"
    },
    "papermill": {
     "duration": 0.025812,
     "end_time": "2023-06-03T14:45:04.136583",
     "exception": false,
     "start_time": "2023-06-03T14:45:04.110771",
     "status": "completed"
    },
    "tags": []
   },
   "outputs": [
    {
     "name": "stdout",
     "output_type": "stream",
     "text": [
      "10\n",
      "10\n"
     ]
    }
   ],
   "source": [
    "func = lambda **kwargs: kwargs[\"a\"] + kwargs[\"b\"]\n",
    "print(func(a=4,b=6))\n",
    "print(func(**dict(a=4,b=6)))"
   ]
  },
  {
   "cell_type": "markdown",
   "id": "68bf04bf",
   "metadata": {
    "papermill": {
     "duration": 0.014025,
     "end_time": "2023-06-03T14:45:04.165310",
     "exception": false,
     "start_time": "2023-06-03T14:45:04.151285",
     "status": "completed"
    },
    "tags": []
   },
   "source": [
    "## map and filter\n",
    "---\n",
    "**`map()`** and **`filter()`** are built-in functions in Python that are used to solve many complex problems easily.\n",
    "\n",
    "* **`map()`** is used when we want to apply the same function repeatedly on a different set of elements. It is beneficial in solving mathematical problems where we apply the same formula to a different set of values.\n",
    "</br>\n",
    "\n",
    "```python\n",
    "map(func, *iterables) --> map object\n",
    "```\n",
    "\n",
    "\n",
    "* **`filter()`** is used when we want to exclude the elements from the given `list, tuple, or set`. This type of function is mainly used in problems based on `sorting techniques`. We can sort the elements quickly based on the condition using this filter() function.\n",
    "</br>\n",
    "\n",
    "```python\n",
    "filter(function or None, iterable) --> filter object\n",
    "```\n",
    "\n",
    "\n",
    "Both `map()` and `filter()` functions are higher-order functions in Python. A higher-order function is referred to a function whose attributes or parameters are in the form of a function, and it returns output in the form of a function only. These higher-order functions in Python help to solve mathematical and complex analytical problems quickly.\n",
    "\n",
    "The detailed explanation and working of both functions with examples are given below. Both map() and filter() functions are built-in and higher-order functions, but their working is different. The area of application of both functions is different because of their functionality.\n",
    "\n",
    "To understand the functionality of both functions, first, we should know the difference between them. Let’s understand the difference between them in detail.\n",
    "\n",
    "* **`map()`** function always passes all the **elements/iterables** through the **transform function**. The result is printed in the form of a map object for the map() function. We can convert those map objects into a list. The mapping technique is implemented in the map() function. Transform function can take N number of arguments.\n",
    "\n",
    "* **`filter()`** function always checks the condition in terms of Boolean values and then passes elements through the function. The result is printed in the form of a filter object, and those filter objects can be converted into a list. The function used for checking conditions in the filter function must take only one argument."
   ]
  },
  {
   "cell_type": "markdown",
   "id": "e6733680",
   "metadata": {
    "papermill": {
     "duration": 0.013586,
     "end_time": "2023-06-03T14:45:04.193223",
     "exception": false,
     "start_time": "2023-06-03T14:45:04.179637",
     "status": "completed"
    },
    "tags": []
   },
   "source": [
    "### Using `map()` to square a list of numbers:"
   ]
  },
  {
   "cell_type": "code",
   "execution_count": 15,
   "id": "ed41c34b",
   "metadata": {
    "execution": {
     "iopub.execute_input": "2023-06-03T14:45:04.224371Z",
     "iopub.status.busy": "2023-06-03T14:45:04.223918Z",
     "iopub.status.idle": "2023-06-03T14:45:04.231052Z",
     "shell.execute_reply": "2023-06-03T14:45:04.229860Z"
    },
    "papermill": {
     "duration": 0.026401,
     "end_time": "2023-06-03T14:45:04.233994",
     "exception": false,
     "start_time": "2023-06-03T14:45:04.207593",
     "status": "completed"
    },
    "tags": []
   },
   "outputs": [
    {
     "name": "stdout",
     "output_type": "stream",
     "text": [
      "[4, 16, 36, 64, 81]\n"
     ]
    }
   ],
   "source": [
    "def squared(x):\n",
    "    return x ** 2\n",
    "\n",
    "num_list = [2, 4, 6, 8, 9]\n",
    "\n",
    "num_list_squared = list(map(squared, num_list))\n",
    "print(num_list_squared) # [1, 4, 9, 16, 25]"
   ]
  },
  {
   "cell_type": "markdown",
   "id": "cf648fee",
   "metadata": {
    "papermill": {
     "duration": 0.013742,
     "end_time": "2023-06-03T14:45:04.261836",
     "exception": false,
     "start_time": "2023-06-03T14:45:04.248094",
     "status": "completed"
    },
    "tags": []
   },
   "source": [
    "### Using `map()` with a lambda function to convert a list of strings to uppercase:"
   ]
  },
  {
   "cell_type": "code",
   "execution_count": 16,
   "id": "7ec28061",
   "metadata": {
    "execution": {
     "iopub.execute_input": "2023-06-03T14:45:04.291994Z",
     "iopub.status.busy": "2023-06-03T14:45:04.291476Z",
     "iopub.status.idle": "2023-06-03T14:45:04.299178Z",
     "shell.execute_reply": "2023-06-03T14:45:04.297838Z"
    },
    "papermill": {
     "duration": 0.026583,
     "end_time": "2023-06-03T14:45:04.302324",
     "exception": false,
     "start_time": "2023-06-03T14:45:04.275741",
     "status": "completed"
    },
    "tags": []
   },
   "outputs": [
    {
     "name": "stdout",
     "output_type": "stream",
     "text": [
      "['APPLE', 'BANANA', 'PEAR', 'APRICOT', 'ORANGE']\n"
     ]
    }
   ],
   "source": [
    "fruit = [\"apple\", \"banana\", \"pear\", \"apricot\", \"orange\"]\n",
    "\n",
    "fruit_upper = list(map(lambda s: s.upper(), fruit))\n",
    "print(fruit_upper) # ['APPLE', 'BANANA', 'PEAR', 'APRICOT', 'ORANGE']"
   ]
  },
  {
   "cell_type": "markdown",
   "id": "5f0bf57a",
   "metadata": {
    "papermill": {
     "duration": 0.013454,
     "end_time": "2023-06-03T14:45:04.329639",
     "exception": false,
     "start_time": "2023-06-03T14:45:04.316185",
     "status": "completed"
    },
    "tags": []
   },
   "source": [
    "### Using `filter()` to filter out even numbers from a list:"
   ]
  },
  {
   "cell_type": "code",
   "execution_count": 17,
   "id": "a4425c36",
   "metadata": {
    "execution": {
     "iopub.execute_input": "2023-06-03T14:45:04.359016Z",
     "iopub.status.busy": "2023-06-03T14:45:04.358603Z",
     "iopub.status.idle": "2023-06-03T14:45:04.366329Z",
     "shell.execute_reply": "2023-06-03T14:45:04.364526Z"
    },
    "papermill": {
     "duration": 0.025864,
     "end_time": "2023-06-03T14:45:04.369240",
     "exception": false,
     "start_time": "2023-06-03T14:45:04.343376",
     "status": "completed"
    },
    "tags": []
   },
   "outputs": [
    {
     "name": "stdout",
     "output_type": "stream",
     "text": [
      "[2, 4]\n"
     ]
    }
   ],
   "source": [
    "def is_even(x):\n",
    "    return x % 2 == 0\n",
    "\n",
    "num_list = [1, 2, 3, 4, 5]\n",
    "\n",
    "num_list_even = list(filter(is_even, num_list))\n",
    "print(num_list_even) # [2, 4]"
   ]
  },
  {
   "cell_type": "markdown",
   "id": "be069b63",
   "metadata": {
    "papermill": {
     "duration": 0.013655,
     "end_time": "2023-06-03T14:45:04.396753",
     "exception": false,
     "start_time": "2023-06-03T14:45:04.383098",
     "status": "completed"
    },
    "tags": []
   },
   "source": [
    "### Using `filter()` with a lambda function to filter out words that start with “A” from a list:"
   ]
  },
  {
   "cell_type": "code",
   "execution_count": 18,
   "id": "39596879",
   "metadata": {
    "execution": {
     "iopub.execute_input": "2023-06-03T14:45:04.426506Z",
     "iopub.status.busy": "2023-06-03T14:45:04.425992Z",
     "iopub.status.idle": "2023-06-03T14:45:04.434120Z",
     "shell.execute_reply": "2023-06-03T14:45:04.432647Z"
    },
    "papermill": {
     "duration": 0.026011,
     "end_time": "2023-06-03T14:45:04.436568",
     "exception": false,
     "start_time": "2023-06-03T14:45:04.410557",
     "status": "completed"
    },
    "tags": []
   },
   "outputs": [
    {
     "name": "stdout",
     "output_type": "stream",
     "text": [
      "['apple', 'apricot']\n"
     ]
    }
   ],
   "source": [
    "fruit = [\"apple\", \"banana\", \"pear\", \"apricot\", \"orange\"]\n",
    "fruit_A = list(filter(lambda s: s[0].upper() == \"A\", fruit))\n",
    "print(fruit_A) # ['apple', 'apricot']"
   ]
  },
  {
   "cell_type": "code",
   "execution_count": null,
   "id": "1c5e615b",
   "metadata": {
    "papermill": {
     "duration": 0.013465,
     "end_time": "2023-06-03T14:45:04.463853",
     "exception": false,
     "start_time": "2023-06-03T14:45:04.450388",
     "status": "completed"
    },
    "tags": []
   },
   "outputs": [],
   "source": []
  }
 ],
 "metadata": {
  "kernelspec": {
   "display_name": "Python 3",
   "language": "python",
   "name": "python3"
  },
  "language_info": {
   "codemirror_mode": {
    "name": "ipython",
    "version": 3
   },
   "file_extension": ".py",
   "mimetype": "text/x-python",
   "name": "python",
   "nbconvert_exporter": "python",
   "pygments_lexer": "ipython3",
   "version": "3.7.12"
  },
  "papermill": {
   "default_parameters": {},
   "duration": 15.609541,
   "end_time": "2023-06-03T14:45:05.203108",
   "environment_variables": {},
   "exception": null,
   "input_path": "__notebook__.ipynb",
   "output_path": "__notebook__.ipynb",
   "parameters": {},
   "start_time": "2023-06-03T14:44:49.593567",
   "version": "2.4.0"
  }
 },
 "nbformat": 4,
 "nbformat_minor": 5
}
