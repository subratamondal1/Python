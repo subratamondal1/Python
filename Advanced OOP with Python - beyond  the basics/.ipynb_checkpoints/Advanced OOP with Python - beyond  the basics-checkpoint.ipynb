{
 "cells": [
  {
   "cell_type": "markdown",
   "id": "002461c5",
   "metadata": {},
   "source": [
    "# Advanced OOP with Python - beyond  the basics"
   ]
  },
  {
   "cell_type": "markdown",
   "id": "f3da343d",
   "metadata": {},
   "source": [
    "# Classes & Objects"
   ]
  },
  {
   "cell_type": "markdown",
   "id": "63188b79",
   "metadata": {},
   "source": [
    "## Class Creation"
   ]
  },
  {
   "cell_type": "code",
   "execution_count": 1,
   "id": "c48a4057",
   "metadata": {},
   "outputs": [],
   "source": [
    "# class\n",
    "class Employee:\n",
    "    def __init__(self, name, salary):\n",
    "        self.name = name\n",
    "        self.salary = salary"
   ]
  },
  {
   "cell_type": "markdown",
   "id": "621fb3d3",
   "metadata": {},
   "source": [
    "## Class instantiation / Object creation"
   ]
  },
  {
   "cell_type": "code",
   "execution_count": 2,
   "id": "5c38e23a",
   "metadata": {},
   "outputs": [],
   "source": [
    "# class instantiation\n",
    "e1 = Employee(\"Vera\",2000)\n",
    "e2 = Employee(\"Chuck\",1800)\n",
    "e3 = Employee(\"Dave\",1900)"
   ]
  },
  {
   "cell_type": "markdown",
   "id": "ff83ddbb",
   "metadata": {},
   "source": [
    "## How to get information out of the created class?"
   ]
  },
  {
   "cell_type": "code",
   "execution_count": 8,
   "id": "8a73b4d1",
   "metadata": {},
   "outputs": [
    {
     "name": "stdout",
     "output_type": "stream",
     "text": [
      "<__main__.Employee object at 0x11229ca50>\n",
      "<__main__.Employee object at 0x11222b1d0>\n",
      "<__main__.Employee object at 0x1122c1e50>\n"
     ]
    }
   ],
   "source": [
    "print(e1)\n",
    "print(e2)\n",
    "print(e3)"
   ]
  },
  {
   "cell_type": "code",
   "execution_count": 9,
   "id": "eca536bf",
   "metadata": {},
   "outputs": [
    {
     "name": "stdout",
     "output_type": "stream",
     "text": [
      "Vera 2000\n",
      "Chuck 1800\n",
      "Dave 1900\n"
     ]
    }
   ],
   "source": [
    "print(e1.name,e1.salary)\n",
    "print(e2.name,e2.salary)\n",
    "print(e3.name,e3.salary)"
   ]
  },
  {
   "cell_type": "code",
   "execution_count": 27,
   "id": "c62062d0",
   "metadata": {},
   "outputs": [
    {
     "name": "stdout",
     "output_type": "stream",
     "text": [
      "Vera Level 2000\n",
      "Chuck Rod 1800\n",
      "Dave Gun 1900\n"
     ]
    }
   ],
   "source": [
    "# modify the Employee class\n",
    "class Employee:\n",
    "    def __init__(self,first_name:str, middle_name:str, last_name:str, salary:float):\n",
    "        self.first_name = first_name\n",
    "        self.last_name = last_name\n",
    "        self.middle_name = middle_name\n",
    "        self.salary = salary\n",
    "        \n",
    "    def get_full_name(self):\n",
    "        return f\"{self.first_name} {self.middle_name} {self.last_name}\"\n",
    "    \n",
    "    def raise_salary(self,percentage):\n",
    "        self.salary = self.salary * (percentage + 100)/100\n",
    "        \n",
    "    def add_bonus(self, amount):\n",
    "        self.salary = self.salary + amount\n",
    "\n",
    "# class instantiation\n",
    "e1 = Employee(\"Vera\",\"Sten\",\"Level\",2000)\n",
    "e2 = Employee(\"Chuck\",\"Dev\",\"Rod\",1800)\n",
    "e3 = Employee(\"Dave\",\"Kun\",\"Gun\",1900)\n",
    "\n",
    "print(e1.first_name,e1.last_name,e1.salary)\n",
    "print(e2.first_name,e2.last_name,e2.salary)\n",
    "print(e3.first_name,e3.last_name,e3.salary)"
   ]
  },
  {
   "cell_type": "code",
   "execution_count": 28,
   "id": "5bf45cfa",
   "metadata": {},
   "outputs": [
    {
     "name": "stdout",
     "output_type": "stream",
     "text": [
      "Vera Sten Level\n",
      "Chuck Dev Rod\n",
      "Dave Kun Gun\n"
     ]
    }
   ],
   "source": [
    "print(e1.get_full_name())\n",
    "print(e2.get_full_name())\n",
    "print(e3.get_full_name())"
   ]
  },
  {
   "cell_type": "code",
   "execution_count": 29,
   "id": "23693168",
   "metadata": {},
   "outputs": [
    {
     "name": "stdout",
     "output_type": "stream",
     "text": [
      "2240.0\n"
     ]
    }
   ],
   "source": [
    "# raise salary by 12%\n",
    "e1.raise_salary(12)\n",
    "\n",
    "print(e1.salary) # salary increased by 12%"
   ]
  },
  {
   "cell_type": "code",
   "execution_count": 30,
   "id": "67020ddb",
   "metadata": {},
   "outputs": [
    {
     "name": "stdout",
     "output_type": "stream",
     "text": [
      "3240.0\n"
     ]
    }
   ],
   "source": [
    "# give bonus of 1000\n",
    "e1.add_bonus(1000)\n",
    "print(e1.salary)"
   ]
  },
  {
   "cell_type": "markdown",
   "id": "6f989be7",
   "metadata": {},
   "source": [
    "## Object inspection\n",
    "**Without dunder __repr__**"
   ]
  },
  {
   "cell_type": "code",
   "execution_count": 33,
   "id": "4b3d1c6d",
   "metadata": {},
   "outputs": [
    {
     "name": "stdout",
     "output_type": "stream",
     "text": [
      "<__main__.Product object at 0x11348e0d0>\n",
      "<__main__.Product object at 0x11348f1d0>\n",
      "<__main__.Product object at 0x11348fb50>\n"
     ]
    }
   ],
   "source": [
    "class Product:\n",
    "    def __init__(self,product_id,name,price):\n",
    "        self.product_id = product_id\n",
    "        self.name = name\n",
    "        self.price = price\n",
    "        \n",
    "        \n",
    "products = [\n",
    "    Product(1, \"Headphone\", 49.99),\n",
    "    Product(2, \"Monitor Speaker\", 150.49),\n",
    "    Product(3, \"Soundcard\", 78.99)\n",
    "]\n",
    "\n",
    "for p in products:\n",
    "    print(p)"
   ]
  },
  {
   "cell_type": "markdown",
   "id": "3810ce03",
   "metadata": {},
   "source": [
    "**With dunder __repr__**"
   ]
  },
  {
   "cell_type": "code",
   "execution_count": 36,
   "id": "d8ebf6e0",
   "metadata": {
    "scrolled": true
   },
   "outputs": [
    {
     "name": "stdout",
     "output_type": "stream",
     "text": [
      "Headphone (1)\n",
      "Monitor Speaker (2)\n",
      "Soundcard (3)\n"
     ]
    }
   ],
   "source": [
    "class Product:\n",
    "    def __init__(self,product_id,name,price):\n",
    "        self.product_id = product_id\n",
    "        self.name = name\n",
    "        self.price = price\n",
    "        \n",
    "    def __repr__(self):\n",
    "        return f\"{self.name} ({self.product_id})\"\n",
    "        \n",
    "products = [\n",
    "    Product(1, \"Headphone\", 49.99),\n",
    "    Product(2, \"Monitor Speaker\", 150.49),\n",
    "    Product(3, \"Soundcard\", 78.99)\n",
    "]\n",
    "\n",
    "for p in products:\n",
    "    print(p)"
   ]
  },
  {
   "cell_type": "markdown",
   "id": "e0cf0e5f",
   "metadata": {},
   "source": [
    "**With dunder __str__**"
   ]
  },
  {
   "cell_type": "code",
   "execution_count": 38,
   "id": "1f2744bd",
   "metadata": {},
   "outputs": [
    {
     "name": "stdout",
     "output_type": "stream",
     "text": [
      "Headphone (1)\n",
      "Monitor Speaker (2)\n",
      "Soundcard (3)\n"
     ]
    }
   ],
   "source": [
    "class Product:\n",
    "    def __init__(self,product_id,name,price):\n",
    "        self.product_id = product_id\n",
    "        self.name = name\n",
    "        self.price = price\n",
    "        \n",
    "    def __str__(self):\n",
    "        return f\"{self.name} ({self.product_id})\"\n",
    "        \n",
    "products = [\n",
    "    Product(1, \"Headphone\", 49.99),\n",
    "    Product(2, \"Monitor Speaker\", 150.49),\n",
    "    Product(3, \"Soundcard\", 78.99)\n",
    "]\n",
    "\n",
    "for p in products:\n",
    "    print(p)"
   ]
  },
  {
   "cell_type": "markdown",
   "id": "a7e18e4a",
   "metadata": {},
   "source": [
    "**With both dunder __str__ and __repr__**"
   ]
  },
  {
   "cell_type": "code",
   "execution_count": 46,
   "id": "39d5774a",
   "metadata": {},
   "outputs": [
    {
     "name": "stdout",
     "output_type": "stream",
     "text": [
      "Headphone (49.99)\n",
      "Monitor Speaker (150.49)\n",
      "Soundcard (78.99)\n"
     ]
    }
   ],
   "source": [
    "class Product:\n",
    "    def __init__(self,product_id,name,price):\n",
    "        self.product_id = product_id\n",
    "        self.name = name\n",
    "        self.price = price\n",
    "        \n",
    "    def __str__(self):\n",
    "        return f\"{self.name} ({self.price})\"\n",
    "    \n",
    "    def __repr__(self):\n",
    "        return f\"{self.name} ({self.product_id})\"\n",
    "        \n",
    "products = [\n",
    "    Product(1, \"Headphone\", 49.99),\n",
    "    Product(2, \"Monitor Speaker\", 150.49),\n",
    "    Product(3, \"Soundcard\", 78.99)\n",
    "]\n",
    "\n",
    "for p in products:\n",
    "    print(p)"
   ]
  },
  {
   "cell_type": "code",
   "execution_count": 47,
   "id": "61dd9dd2",
   "metadata": {},
   "outputs": [
    {
     "name": "stdout",
     "output_type": "stream",
     "text": [
      "Headphone (1)\n",
      "Headphone (49.99)\n",
      "Monitor Speaker (2)\n",
      "Monitor Speaker (150.49)\n",
      "Soundcard (3)\n",
      "Soundcard (78.99)\n"
     ]
    }
   ],
   "source": [
    "for p in products:\n",
    "    print(repr(p))\n",
    "    print(str(p))"
   ]
  },
  {
   "cell_type": "markdown",
   "id": "e597a683",
   "metadata": {},
   "source": [
    "## Class initialization"
   ]
  },
  {
   "cell_type": "code",
   "execution_count": 50,
   "id": "b898ac8e",
   "metadata": {},
   "outputs": [
    {
     "name": "stdout",
     "output_type": "stream",
     "text": [
      "Creating a new employee\n",
      "Initializing the employee\n",
      "John\n",
      "50000\n"
     ]
    }
   ],
   "source": [
    "class Employee:\n",
    "    def __new__(cls, name, salary):\n",
    "        # Custom object creation\n",
    "        print(\"Creating a new employee\")\n",
    "        return super().__new__(cls) # Call the default object constructor\n",
    "\n",
    "    def __init__(self, name, salary):\n",
    "        # Custom object initialization\n",
    "        print(\"Initializing the employee\")\n",
    "        self.name = name # Set name attribute\n",
    "        self.salary = salary # Set salary attribute\n",
    "        \n",
    "emp = Employee(\"John\", 50000)\n",
    "print(emp.name)\n",
    "print(emp.salary)"
   ]
  },
  {
   "cell_type": "markdown",
   "id": "623369a9",
   "metadata": {},
   "source": [
    "# Inheritance\n",
    "Python supports both:\n",
    "1. **Single** Inheritance\n",
    "2. **Multiple** Inheritance\n",
    "\n",
    "Inheritance has two main goals:\n",
    "1. Allow **polymorphism**\n",
    "2. Prevent **duplicate code** while using polymorphism\n",
    "\n",
    "The above is true for static typed language, but python is dynamic typed language, so, inheritance isn't needed to achieve polymorphism, but still plays a role while using polymorphism."
   ]
  },
  {
   "cell_type": "code",
   "execution_count": 3,
   "id": "3e792b1d",
   "metadata": {},
   "outputs": [],
   "source": [
    "class Employee:\n",
    "    def __init__(self, name, salary):\n",
    "        self.name = name\n",
    "        self.salary = salary\n",
    "    \n",
    "    def get_info(self):\n",
    "        return f\"Employee {self.name} earns {self.salary}\"\n",
    "    \n",
    "class Manager(Employee):\n",
    "    pass"
   ]
  },
  {
   "cell_type": "code",
   "execution_count": 6,
   "id": "2ba8972b",
   "metadata": {},
   "outputs": [
    {
     "name": "stdout",
     "output_type": "stream",
     "text": [
      "['__annotations__', '__class__', '__delattr__', '__dict__', '__dir__', '__doc__', '__eq__', '__format__', '__ge__', '__getattribute__', '__getstate__', '__gt__', '__hash__', '__init__', '__init_subclass__', '__le__', '__lt__', '__module__', '__ne__', '__new__', '__reduce__', '__reduce_ex__', '__repr__', '__setattr__', '__sizeof__', '__str__', '__subclasshook__', '__weakref__', 'get_info', 'name', 'salary']\n",
      "\n",
      "['__annotations__', '__class__', '__delattr__', '__dict__', '__dir__', '__doc__', '__eq__', '__format__', '__ge__', '__getattribute__', '__getstate__', '__gt__', '__hash__', '__init__', '__init_subclass__', '__le__', '__lt__', '__module__', '__ne__', '__new__', '__reduce__', '__reduce_ex__', '__repr__', '__setattr__', '__sizeof__', '__str__', '__subclasshook__', '__weakref__', 'get_info', 'name', 'salary']\n",
      "\n",
      "Employee Vera earns 5000\n",
      "\n",
      "Employee Subrata earns 500000\n"
     ]
    }
   ],
   "source": [
    "e = Employee(\"Vera\",5000)\n",
    "m = Manager(\"Subrata\", 500000)\n",
    "\n",
    "print(dir(e))\n",
    "print()\n",
    "print(dir(m))\n",
    "print()\n",
    "print(e.get_info())\n",
    "print()\n",
    "print(m.get_info())"
   ]
  },
  {
   "cell_type": "markdown",
   "id": "69aa0085",
   "metadata": {},
   "source": [
    "Notice, that in class Manager I haven't declared anything and still got all the attributes and methods present in the. parent class in Employee. This is polymorphism in action. **The subclass inherits everything from the Parent class.**"
   ]
  },
  {
   "cell_type": "markdown",
   "id": "20c140a8",
   "metadata": {},
   "source": [
    "## Method overriding\n",
    "Everything above is good but one problem, the manager is also getting called as employee and to change that we need **method overriding.**\n",
    "* **Method overriding** is key to polymorphism."
   ]
  },
  {
   "cell_type": "code",
   "execution_count": 7,
   "id": "3247d159",
   "metadata": {},
   "outputs": [],
   "source": [
    "class Employee:\n",
    "    def __init__(self, name, salary):\n",
    "        self.name = name\n",
    "        self.salary = salary\n",
    "    \n",
    "    def get_info(self):\n",
    "        return f\"Employee {self.name} earns {self.salary}\"\n",
    "    \n",
    "class Manager(Employee):\n",
    "    # method overriding\n",
    "    def get_info(self):\n",
    "        return f\"Manager {self.name} earns {self.salary}\""
   ]
  },
  {
   "cell_type": "code",
   "execution_count": 8,
   "id": "a32d20a1",
   "metadata": {},
   "outputs": [
    {
     "name": "stdout",
     "output_type": "stream",
     "text": [
      "['__class__', '__delattr__', '__dict__', '__dir__', '__doc__', '__eq__', '__format__', '__ge__', '__getattribute__', '__getstate__', '__gt__', '__hash__', '__init__', '__init_subclass__', '__le__', '__lt__', '__module__', '__ne__', '__new__', '__reduce__', '__reduce_ex__', '__repr__', '__setattr__', '__sizeof__', '__str__', '__subclasshook__', '__weakref__', 'get_info', 'name', 'salary']\n",
      "\n",
      "['__class__', '__delattr__', '__dict__', '__dir__', '__doc__', '__eq__', '__format__', '__ge__', '__getattribute__', '__getstate__', '__gt__', '__hash__', '__init__', '__init_subclass__', '__le__', '__lt__', '__module__', '__ne__', '__new__', '__reduce__', '__reduce_ex__', '__repr__', '__setattr__', '__sizeof__', '__str__', '__subclasshook__', '__weakref__', 'get_info', 'name', 'salary']\n",
      "\n",
      "Employee Vera earns 5000\n",
      "\n",
      "Manager Subrata earns 500000\n"
     ]
    }
   ],
   "source": [
    "e = Employee(\"Vera\",5000)\n",
    "m = Manager(\"Subrata\", 500000)\n",
    "\n",
    "print(dir(e))\n",
    "print()\n",
    "print(dir(m))\n",
    "print()\n",
    "print(e.get_info())\n",
    "print()\n",
    "print(m.get_info())"
   ]
  },
  {
   "cell_type": "code",
   "execution_count": null,
   "id": "60af13ac",
   "metadata": {},
   "outputs": [],
   "source": []
  }
 ],
 "metadata": {
  "hide_input": false,
  "kernelspec": {
   "display_name": "Python 3 (ipykernel)",
   "language": "python",
   "name": "python3"
  },
  "language_info": {
   "codemirror_mode": {
    "name": "ipython",
    "version": 3
   },
   "file_extension": ".py",
   "mimetype": "text/x-python",
   "name": "python",
   "nbconvert_exporter": "python",
   "pygments_lexer": "ipython3",
   "version": "3.11.1"
  },
  "toc": {
   "base_numbering": 1,
   "nav_menu": {},
   "number_sections": true,
   "sideBar": true,
   "skip_h1_title": false,
   "title_cell": "Table of Contents",
   "title_sidebar": "Contents",
   "toc_cell": false,
   "toc_position": {},
   "toc_section_display": true,
   "toc_window_display": false
  },
  "varInspector": {
   "cols": {
    "lenName": 16,
    "lenType": 16,
    "lenVar": 40
   },
   "kernels_config": {
    "python": {
     "delete_cmd_postfix": "",
     "delete_cmd_prefix": "del ",
     "library": "var_list.py",
     "varRefreshCmd": "print(var_dic_list())"
    },
    "r": {
     "delete_cmd_postfix": ") ",
     "delete_cmd_prefix": "rm(",
     "library": "var_list.r",
     "varRefreshCmd": "cat(var_dic_list()) "
    }
   },
   "types_to_exclude": [
    "module",
    "function",
    "builtin_function_or_method",
    "instance",
    "_Feature"
   ],
   "window_display": false
  }
 },
 "nbformat": 4,
 "nbformat_minor": 5
}
