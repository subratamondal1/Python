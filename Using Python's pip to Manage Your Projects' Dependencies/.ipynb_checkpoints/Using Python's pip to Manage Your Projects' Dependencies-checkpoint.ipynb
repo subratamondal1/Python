{
 "cells": [
  {
   "cell_type": "markdown",
   "id": "d5e214e0",
   "metadata": {},
   "source": [
    "# Using Python's pip to Manage Your Projects' Dependencies\n",
    "The standard package manager for Python is pip. It allows you to install and manage packages that aren’t part of the Python standard library. If you’re looking for an introduction to pip, then you’ve come to the right place!\n",
    "\n",
    "In this tutorial, you’ll learn how to:\n",
    "\n",
    "* **Set up pip** in your working environment\n",
    "* **Fix common errors** related to working with pip\n",
    "* **Install and uninstall packages** with pip\n",
    "* Manage projects’ dependencies using **requirements files**\n",
    "\n",
    "You can do a lot with pip, but the Python community is very active and has created some neat alternatives to pip. You’ll learn about those later in this tutorial."
   ]
  },
  {
   "cell_type": "markdown",
   "id": "515300dc",
   "metadata": {},
   "source": [
    "# Getting Started With pip\n",
    "So, what exactly does pip do? pip is a package manager for Python. That means it’s a tool that allows you to install and manage libraries and dependencies that aren’t distributed as part of the standard library. The name pip was introduced by Ian Bicking in 2008:\n",
    "\n",
    "<code>I’ve finished renaming pyinstall to its new name: pip. The name pip is [an] acronym and declaration: pip installs packages.</code>\n",
    "\n",
    "Package management is so important that Python’s installers have included pip since versions 3.4 and 2.7.9, for Python 3 and Python 2, respectively. Many Python projects use pip, which makes it an essential tool for every Pythonista.\n",
    "\n",
    "The concept of a package manager might be familiar to you if you’re coming from another programming language. JavaScript uses npm for package management, Ruby uses gem, and the .NET platform uses NuGet. In Python, pip has become the standard package manager."
   ]
  },
  {
   "cell_type": "markdown",
   "id": "63c95cf3",
   "metadata": {},
   "source": [
    "## Finding pip on Your System\n",
    "The Python 3 installer gives you the option to install pip when installing Python on your system. In fact, the option to install pip with Python is checked by default, so pip should be ready for you to use after installing Python.\n",
    "\n",
    "You can verify that pip is available by looking for the pip3 executable on your system by:"
   ]
  },
  {
   "cell_type": "code",
   "execution_count": 9,
   "id": "922c4e76",
   "metadata": {},
   "outputs": [
    {
     "name": "stdout",
     "output_type": "stream",
     "text": [
      "/Library/Frameworks/Python.framework/Versions/3.11/bin/pip3\r\n"
     ]
    }
   ],
   "source": [
    "!which pip3"
   ]
  },
  {
   "cell_type": "markdown",
   "id": "d71a4841",
   "metadata": {},
   "source": [
    "The `which` command on Linux systems and macOS shows you where the pip3 binary file is located."
   ]
  },
  {
   "cell_type": "code",
   "execution_count": null,
   "id": "f6cde460",
   "metadata": {},
   "outputs": [],
   "source": []
  }
 ],
 "metadata": {
  "hide_input": false,
  "kernelspec": {
   "display_name": "Python 3 (ipykernel)",
   "language": "python",
   "name": "python3"
  },
  "language_info": {
   "codemirror_mode": {
    "name": "ipython",
    "version": 3
   },
   "file_extension": ".py",
   "mimetype": "text/x-python",
   "name": "python",
   "nbconvert_exporter": "python",
   "pygments_lexer": "ipython3",
   "version": "3.11.1"
  },
  "toc": {
   "base_numbering": 1,
   "nav_menu": {},
   "number_sections": true,
   "sideBar": true,
   "skip_h1_title": false,
   "title_cell": "Table of Contents",
   "title_sidebar": "Contents",
   "toc_cell": false,
   "toc_position": {},
   "toc_section_display": true,
   "toc_window_display": false
  },
  "varInspector": {
   "cols": {
    "lenName": 16,
    "lenType": 16,
    "lenVar": 40
   },
   "kernels_config": {
    "python": {
     "delete_cmd_postfix": "",
     "delete_cmd_prefix": "del ",
     "library": "var_list.py",
     "varRefreshCmd": "print(var_dic_list())"
    },
    "r": {
     "delete_cmd_postfix": ") ",
     "delete_cmd_prefix": "rm(",
     "library": "var_list.r",
     "varRefreshCmd": "cat(var_dic_list()) "
    }
   },
   "types_to_exclude": [
    "module",
    "function",
    "builtin_function_or_method",
    "instance",
    "_Feature"
   ],
   "window_display": false
  }
 },
 "nbformat": 4,
 "nbformat_minor": 5
}
