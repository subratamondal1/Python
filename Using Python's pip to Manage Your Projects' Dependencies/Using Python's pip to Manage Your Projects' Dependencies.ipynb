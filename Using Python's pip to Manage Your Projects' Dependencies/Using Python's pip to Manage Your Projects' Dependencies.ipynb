{
 "cells": [
  {
   "cell_type": "markdown",
   "id": "9815437a",
   "metadata": {},
   "source": [
    "# [Using Python's pip to Manage Your Projects' Dependencies](https://realpython.com/what-is-pip/)\n",
    "The standard package manager for Python is pip. It allows you to install and manage packages that aren’t part of the Python standard library. If you’re looking for an introduction to pip, then you’ve come to the right place!\n",
    "\n",
    "In this tutorial, you’ll learn how to:\n",
    "\n",
    "* **Set up pip** in your working environment\n",
    "* **Fix common errors** related to working with pip\n",
    "* **Install and uninstall packages** with pip\n",
    "* Manage projects’ dependencies using **requirements files**\n",
    "\n",
    "You can do a lot with pip, but the Python community is very active and has created some neat alternatives to pip. You’ll learn about those later in this tutorial."
   ]
  },
  {
   "cell_type": "markdown",
   "id": "9d380917",
   "metadata": {},
   "source": [
    "# Getting Started With pip\n",
    "So, what exactly does pip do? pip is a package manager for Python. That means it’s a tool that allows you to install and manage libraries and dependencies that aren’t distributed as part of the standard library. The name pip was introduced by Ian Bicking in 2008:\n",
    "\n",
    "<code>I’ve finished renaming pyinstall to its new name: pip. The name pip is [an] acronym and declaration: pip installs packages.</code>\n",
    "\n",
    "Package management is so important that Python’s installers have included pip since versions 3.4 and 2.7.9, for Python 3 and Python 2, respectively. Many Python projects use pip, which makes it an essential tool for every Pythonista.\n",
    "\n",
    "The concept of a package manager might be familiar to you if you’re coming from another programming language. JavaScript uses npm for package management, Ruby uses gem, and the .NET platform uses NuGet. In Python, pip has become the standard package manager."
   ]
  },
  {
   "cell_type": "markdown",
   "id": "408b6363",
   "metadata": {},
   "source": [
    "## Finding pip on Your System\n",
    "The Python 3 installer gives you the option to install pip when installing Python on your system. In fact, the option to install pip with Python is checked by default, so pip should be ready for you to use after installing Python.\n",
    "\n",
    "You can verify that pip is available by looking for the pip3 executable on your system by:"
   ]
  },
  {
   "cell_type": "code",
   "execution_count": 9,
   "id": "d3e38559",
   "metadata": {},
   "outputs": [
    {
     "name": "stdout",
     "output_type": "stream",
     "text": [
      "/Library/Frameworks/Python.framework/Versions/3.11/bin/pip3\r\n"
     ]
    }
   ],
   "source": [
    "!which pip3"
   ]
  },
  {
   "cell_type": "markdown",
   "id": "637260c2",
   "metadata": {},
   "source": [
    "The `which` command on Linux systems and macOS shows you where the pip3 binary file is located."
   ]
  },
  {
   "cell_type": "markdown",
   "id": "3d74d36b",
   "metadata": {},
   "source": [
    "## Running pip as a Module\n",
    "When you run your system pip directly, the command itself doesn’t reveal which Python version pip belongs to. This unfortunately means that you could use pip to install a package into the site-packages of an old Python version without noticing. To prevent this from happening, you can run pip as a Python module:"
   ]
  },
  {
   "cell_type": "code",
   "execution_count": 16,
   "id": "945dbd79",
   "metadata": {},
   "outputs": [
    {
     "name": "stdout",
     "output_type": "stream",
     "text": [
      "\r\n",
      "Usage:   \r\n",
      "  /Library/Frameworks/Python.framework/Versions/3.11/bin/python3 -m pip <command> [options]\r\n",
      "\r\n",
      "Commands:\r\n",
      "  install                     Install packages.\r\n",
      "  download                    Download packages.\r\n",
      "  uninstall                   Uninstall packages.\r\n",
      "  freeze                      Output installed packages in requirements format.\r\n",
      "  inspect                     Inspect the python environment.\r\n",
      "  list                        List installed packages.\r\n",
      "  show                        Show information about installed packages.\r\n",
      "  check                       Verify installed packages have compatible dependencies.\r\n",
      "  config                      Manage local and global configuration.\r\n",
      "  search                      Search PyPI for packages.\r\n",
      "  cache                       Inspect and manage pip's wheel cache.\r\n",
      "  index                       Inspect information available from package indexes.\r\n",
      "  wheel                       Build wheels from your requirements.\r\n",
      "  hash                        Compute hashes of package archives.\r\n",
      "  completion                  A helper command used for command completion.\r\n",
      "  debug                       Show information useful for debugging.\r\n",
      "  help                        Show help for commands.\r\n",
      "\r\n",
      "General Options:\r\n",
      "  -h, --help                  Show help.\r\n",
      "  --debug                     Let unhandled exceptions propagate outside the\r\n",
      "                              main subroutine, instead of logging them to\r\n",
      "                              stderr.\r\n",
      "  --isolated                  Run pip in an isolated mode, ignoring\r\n",
      "                              environment variables and user configuration.\r\n",
      "  --require-virtualenv        Allow pip to only run in a virtual environment;\r\n",
      "                              exit with an error otherwise.\r\n",
      "  --python <python>           Run pip with the specified Python interpreter.\r\n",
      "  -v, --verbose               Give more output. Option is additive, and can be\r\n",
      "                              used up to 3 times.\r\n",
      "  -V, --version               Show version and exit.\r",
      "\r\n",
      "  -q, --quiet                 Give less output. Option is additive, and can be\r\n",
      "                              used up to 3 times (corresponding to WARNING,\r\n",
      "                              ERROR, and CRITICAL logging levels).\r\n",
      "  --log <path>                Path to a verbose appending log.\r\n",
      "  --no-input                  Disable prompting for input.\r\n",
      "  --keyring-provider <keyring_provider>\r\n",
      "                              Enable the credential lookup via the keyring\r\n",
      "                              library if user input is allowed. Specify which\r\n",
      "                              mechanism to use [disabled, import, subprocess].\r\n",
      "                              (default: disabled)\r\n",
      "  --proxy <proxy>             Specify a proxy in the form\r\n",
      "                              scheme://[user:passwd@]proxy.server:port.\r\n",
      "  --retries <retries>         Maximum number of retries each connection should\r\n",
      "                              attempt (default 5 times).\r\n",
      "  --timeout <sec>             Set the socket timeout (default 15 seconds).\r\n",
      "  --exists-action <action>    Default action when a path already exists:\r\n",
      "                              (s)witch, (i)gnore, (w)ipe, (b)ackup, (a)bort.\r\n",
      "  --trusted-host <hostname>   Mark this host or host:port pair as trusted,\r\n",
      "                              even though it does not have valid or any HTTPS.\r\n",
      "  --cert <path>               Path to PEM-encoded CA certificate bundle. If\r\n",
      "                              provided, overrides the default. See 'SSL\r\n",
      "                              Certificate Verification' in pip documentation\r\n",
      "                              for more information.\r\n",
      "  --client-cert <path>        Path to SSL client certificate, a single file\r\n",
      "                              containing the private key and the certificate\r\n",
      "                              in PEM format.\r\n",
      "  --cache-dir <dir>           Store the cache data in <dir>.\r\n",
      "  --no-cache-dir              Disable the cache.\r\n",
      "  --disable-pip-version-check\r\n",
      "                              Don't periodically check PyPI to determine\r\n",
      "                              whether a new version of pip is available for\r\n",
      "                              download. Implied with --no-index.\r\n",
      "  --no-color                  Suppress colored output.\r\n",
      "  --no-python-version-warning\r\n",
      "                              Silence deprecation warnings for upcoming\r\n",
      "                              unsupported Pythons.\r\n",
      "  --use-feature <feature>     Enable new functionality, that may be backward\r\n",
      "                              incompatible.\r\n",
      "  --use-deprecated <feature>  Enable deprecated functionality, that will be\r\n",
      "                              removed in the future.\r\n"
     ]
    }
   ],
   "source": [
    "!python3 -m pip"
   ]
  },
  {
   "cell_type": "markdown",
   "id": "8a865a70",
   "metadata": {},
   "source": [
    "Notice that you use python3 -m to run pip. The -m switch tells Python to run a module as an executable of the python3 interpreter. This way, you can ensure that your system default Python 3 version runs the pip command. If you want to learn more about this way of running pip, then you can read [Brett Cannon’s insightful article](https://snarky.ca/why-you-should-use-python-m-pip/) about the advantages of using python3 -m pip.\n",
    "\n",
    "Sometimes you may want to be more explicit and limit packages to a specific project. In situations like this, you should run pip inside a virtual environment."
   ]
  },
  {
   "cell_type": "markdown",
   "id": "edd867a9",
   "metadata": {},
   "source": [
    "To reveal which Python version pip belongs to, run:"
   ]
  },
  {
   "cell_type": "code",
   "execution_count": 17,
   "id": "cd663cdb",
   "metadata": {},
   "outputs": [
    {
     "name": "stdout",
     "output_type": "stream",
     "text": [
      "pip 23.1.2 from /Library/Frameworks/Python.framework/Versions/3.11/lib/python3.11/site-packages/pip (python 3.11)\n",
      "Note: you may need to restart the kernel to use updated packages.\n"
     ]
    }
   ],
   "source": [
    "pip --version"
   ]
  },
  {
   "cell_type": "code",
   "execution_count": 19,
   "id": "0a976be3",
   "metadata": {},
   "outputs": [
    {
     "name": "stdout",
     "output_type": "stream",
     "text": [
      "pip 23.1.2 from /Library/Frameworks/Python.framework/Versions/3.11/lib/python3.11/site-packages/pip (python 3.11)\r\n"
     ]
    }
   ],
   "source": [
    "!pip3 --version"
   ]
  },
  {
   "cell_type": "markdown",
   "id": "0fb36803",
   "metadata": {},
   "source": [
    "## Using pip in a Python Virtual Environment\n",
    "To avoid installing packages directly into your system Python installation, you can use a virtual environment. A virtual environment provides an isolated Python interpreter for your project. Any packages that you use inside this environment will be independent of your system interpreter. This means that you can keep your project’s dependencies separate from other projects and the system at large.\n",
    "\n",
    "Using pip inside a virtual environment has three main advantages. You can:\n",
    "\n",
    "* Be sure that you’re using the **right Python version** for the project at hand\n",
    "* Be confident that you’re referring to the **correct pip instance** when running pip or pip3\n",
    "* Use a **specific package version** for your project without affecting other projects\n",
    "\n",
    "Python 3 has the built-in venv module for creating virtual environments. This module helps you create virtual environments with an isolated Python installation. Once you’ve activated the virtual environment, then you can install packages into this environment. The packages that you install into one virtual environment are isolated from all other environments on your system.\n",
    "\n",
    "You can follow these steps to create a virtual environment and verify that you’re using the pip module inside the newly created environment:"
   ]
  },
  {
   "cell_type": "code",
   "execution_count": 24,
   "id": "ec590669",
   "metadata": {},
   "outputs": [
    {
     "name": "stdout",
     "output_type": "stream",
     "text": [
      "pip 23.1.2 from /Library/Frameworks/Python.framework/Versions/3.11/lib/python3.11/site-packages/pip (python 3.11)\r\n"
     ]
    }
   ],
   "source": [
    "!python3 -m venv venv_subrata\n",
    "!source venv_subrata/bin/activate\n",
    "!pip --version"
   ]
  },
  {
   "cell_type": "code",
   "execution_count": 25,
   "id": "3ea43832",
   "metadata": {},
   "outputs": [
    {
     "name": "stdout",
     "output_type": "stream",
     "text": [
      "pip 23.1.2 from /Library/Frameworks/Python.framework/Versions/3.11/lib/python3.11/site-packages/pip (python 3.11)\r\n"
     ]
    }
   ],
   "source": [
    "!pip3 --version"
   ]
  },
  {
   "cell_type": "markdown",
   "id": "e1186887",
   "metadata": {},
   "source": [
    "Here you create a virtual environment named `venv_subrata` by using Python’s built-in venv module. Then you activate it with the source command. The parentheses (()) surrounding your venv_subrata name indicate that you successfully activated the virtual environment.\n",
    "\n",
    "Finally, you check the version of the pip3 and pip executables inside your activated virtual environment. Both point to the same pip module, so once your virtual environment is activated, you can use either pip or pip3."
   ]
  },
  {
   "cell_type": "markdown",
   "id": "acfff2ba",
   "metadata": {},
   "source": [
    "# Installing Packages With pip\n",
    "Python is considered a batteries included language. This means that the Python standard library contains an extensive set of packages and modules to help developers with their coding projects.\n",
    "\n",
    "At the same time, Python has an active community that contributes an even more extensive set of packages that can help you with your development needs. These packages are published to the Python Package Index, also known as PyPI (pronounced Pie Pea Eye).\n",
    "\n",
    "`Note: When you’re installing third-party packages, you have to be careful. Check out` **[How to Evaluate the Quality of Python Packages](https://realpython.com/python-package-quality/)** `for a full guide to ensuring your packages are trustworthy.`\n",
    "\n",
    "PyPI hosts an extensive collection of packages, including development frameworks, tools, and libraries. Many of these packages provide friendly interfaces to the Python standard library’s functionality."
   ]
  },
  {
   "cell_type": "markdown",
   "id": "cb4ef458",
   "metadata": {},
   "source": [
    "## Using the Python Package Index (PyPI)\n",
    "One of the many packages that PyPI hosts is called requests. The requests library helps you to interact with web services by abstracting the complexities of HTTP requests. You can learn all about requests on its official documentation site.\n",
    "\n",
    "When you want to use the requests package in your project, you must first install it into your environment. If you don’t want to install it in your system Python site-packages, then you can create a virtual environment first, as shown above.\n",
    "\n",
    "Once you’ve created the virtual environment and activated it, then your command-line prompt shows the name of the virtual environment inside the parentheses. Any pip commands that you perform from now on will happen inside your virtual environment.\n",
    "\n",
    "To install packages, pip provides an install command. You can run it to install the requests package:"
   ]
  },
  {
   "cell_type": "code",
   "execution_count": 26,
   "id": "89b25699",
   "metadata": {},
   "outputs": [
    {
     "name": "stdout",
     "output_type": "stream",
     "text": [
      "Requirement already satisfied: requests in /Library/Frameworks/Python.framework/Versions/3.11/lib/python3.11/site-packages (2.28.1)\n",
      "Requirement already satisfied: charset-normalizer<3,>=2 in /Library/Frameworks/Python.framework/Versions/3.11/lib/python3.11/site-packages (from requests) (2.1.1)\n",
      "Requirement already satisfied: idna<4,>=2.5 in /Library/Frameworks/Python.framework/Versions/3.11/lib/python3.11/site-packages (from requests) (3.4)\n",
      "Requirement already satisfied: urllib3<1.27,>=1.21.1 in /Library/Frameworks/Python.framework/Versions/3.11/lib/python3.11/site-packages (from requests) (1.26.13)\n",
      "Requirement already satisfied: certifi>=2017.4.17 in /Library/Frameworks/Python.framework/Versions/3.11/lib/python3.11/site-packages (from requests) (2023.5.7)\n"
     ]
    }
   ],
   "source": [
    "!python3 -m pip install requests"
   ]
  },
  {
   "cell_type": "markdown",
   "id": "c1d5ec38",
   "metadata": {},
   "source": [
    "In this example, you run pip with the install command followed by the name of the package that you want to install. The pip command looks for the package in PyPI, resolves its dependencies, and installs everything in your current Python environment to ensure that requests will work.\n",
    "\n",
    "The pip install <package> command always looks for the latest version of the package and installs it. It also searches for dependencies listed in the package metadata and installs them to ensure that the package has all the requirements that it needs.\n",
    "\n",
    "It’s also possible to install multiple packages in a single command:"
   ]
  },
  {
   "cell_type": "code",
   "execution_count": 27,
   "id": "ec61a13f",
   "metadata": {},
   "outputs": [
    {
     "name": "stdout",
     "output_type": "stream",
     "text": [
      "Collecting rptree\n",
      "  Downloading rptree-0.1.1-py3-none-any.whl (5.0 kB)\n",
      "Collecting codetiming\n",
      "  Downloading codetiming-1.4.0-py3-none-any.whl (7.2 kB)\n",
      "Installing collected packages: rptree, codetiming\n",
      "Successfully installed codetiming-1.4.0 rptree-0.1.1\n"
     ]
    }
   ],
   "source": [
    "!python3 -m pip install rptree codetiming"
   ]
  },
  {
   "cell_type": "markdown",
   "id": "eb53b800",
   "metadata": {},
   "source": [
    "By chaining the packages rptree and codetiming in the pip install command, you install both packages at once. You can add as many packages as you want to the pip install command. In cases like this, a requirements.txt file can come in handy. Later in this tutorial, you’ll learn how to use a requirements.txt file to install many packages at once."
   ]
  },
  {
   "cell_type": "markdown",
   "id": "e52040b7",
   "metadata": {},
   "source": [
    "You can use the list command to display the packages installed in your environment, along with their version numbers:"
   ]
  },
  {
   "cell_type": "code",
   "execution_count": 28,
   "id": "63cfa65a",
   "metadata": {},
   "outputs": [
    {
     "name": "stdout",
     "output_type": "stream",
     "text": [
      "Package                           Version\n",
      "--------------------------------- -----------\n",
      "absl-py                           1.4.0\n",
      "aiofiles                          23.1.0\n",
      "aiohttp                           3.8.4\n",
      "aioice                            0.9.0\n",
      "aiortc                            1.5.0\n",
      "aiosignal                         1.3.1\n",
      "altair                            4.2.0\n",
      "anyio                             3.6.2\n",
      "appdirs                           1.4.4\n",
      "appnope                           0.1.3\n",
      "argon2-cffi                       21.3.0\n",
      "argon2-cffi-bindings              21.2.0\n",
      "arrow                             1.2.3\n",
      "astroid                           2.15.2\n",
      "asttokens                         2.2.1\n",
      "astunparse                        1.6.3\n",
      "async-timeout                     4.0.2\n",
      "attrs                             22.2.0\n",
      "Automat                           22.10.0\n",
      "autopep8                          2.0.1\n",
      "av                                10.0.0\n",
      "Babel                             2.11.0\n",
      "backcall                          0.2.0\n",
      "bandit                            1.7.5\n",
      "beautifulsoup4                    4.11.1\n",
      "black                             23.3.0\n",
      "bleach                            5.0.1\n",
      "blinker                           1.5\n",
      "blis                              0.7.9\n",
      "build                             0.10.0\n",
      "CacheControl                      0.12.13\n",
      "cachetools                        5.2.1\n",
      "catalogue                         2.0.8\n",
      "certifi                           2023.5.7\n",
      "cffi                              1.15.1\n",
      "charset-normalizer                2.1.1\n",
      "cleo                              2.0.1\n",
      "click                             8.1.3\n",
      "codetiming                        1.4.0\n",
      "comm                              0.1.2\n",
      "commonmark                        0.9.1\n",
      "confection                        0.0.4\n",
      "constantly                        15.1.0\n",
      "contourpy                         1.0.6\n",
      "crashtest                         0.4.1\n",
      "cryptography                      39.0.0\n",
      "cssselect                         1.2.0\n",
      "cvzone                            1.5.6\n",
      "cycler                            0.11.0\n",
      "cymem                             2.0.7\n",
      "daal                              2023.1.1\n",
      "daal4py                           2023.1.1\n",
      "dash                              2.7.1\n",
      "dash-core-components              2.0.0\n",
      "dash-html-components              2.0.0\n",
      "dash-table                        5.0.0\n",
      "debugpy                           1.6.4\n",
      "decorator                         5.1.1\n",
      "defusedxml                        0.7.1\n",
      "dill                              0.3.6\n",
      "distlib                           0.3.6\n",
      "dnspython                         2.3.0\n",
      "dulwich                           0.21.5\n",
      "entrypoints                       0.4\n",
      "et-xmlfile                        1.1.0\n",
      "executing                         1.2.0\n",
      "fastai                            2.7.12\n",
      "fastapi                           0.88.0\n",
      "fastcore                          1.5.29\n",
      "fastdownload                      0.0.7\n",
      "fastjsonschema                    2.16.2\n",
      "fastprogress                      1.0.1\n",
      "feature-engine                    1.5.2\n",
      "ffmpeg                            1.4\n",
      "ffmpy                             0.3.0\n",
      "filelock                          3.12.0\n",
      "Flask                             2.2.2\n",
      "flatbuffers                       23.5.9\n",
      "fonttools                         4.38.0\n",
      "fqdn                              1.5.1\n",
      "frozendict                        2.3.4\n",
      "frozenlist                        1.3.3\n",
      "fsspec                            2023.4.0\n",
      "gast                              0.4.0\n",
      "gitdb                             4.0.10\n",
      "GitPython                         3.1.30\n",
      "google-auth                       2.18.1\n",
      "google-auth-oauthlib              1.0.0\n",
      "google-crc32c                     1.5.0\n",
      "google-pasta                      0.2.0\n",
      "gradio                            3.25.0\n",
      "gradio_client                     0.1.0\n",
      "grpcio                            1.54.2\n",
      "h11                               0.14.0\n",
      "h5py                              3.8.0\n",
      "html5lib                          1.1\n",
      "httpcore                          0.17.0\n",
      "httpx                             0.24.0\n",
      "huggingface-hub                   0.13.4\n",
      "hyperlink                         21.0.0\n",
      "idna                              3.4\n",
      "ifaddr                            0.2.0\n",
      "imageio                           2.25.1\n",
      "imbalanced-learn                  0.10.1\n",
      "importlib-metadata                6.0.0\n",
      "incremental                       22.10.0\n",
      "inflection                        0.5.1\n",
      "installer                         0.7.0\n",
      "ipykernel                         6.19.4\n",
      "ipython                           8.7.0\n",
      "ipython-genutils                  0.2.0\n",
      "ipywidgets                        8.0.4\n",
      "isoduration                       20.11.0\n",
      "isort                             5.12.0\n",
      "itemadapter                       0.7.0\n",
      "itemloaders                       1.0.6\n",
      "itsdangerous                      2.1.2\n",
      "jaraco.classes                    3.2.3\n",
      "jax                               0.4.10\n",
      "jedi                              0.18.2\n",
      "Jinja2                            3.1.2\n",
      "jmespath                          1.0.1\n",
      "joblib                            1.2.0\n",
      "json5                             0.9.10\n",
      "jsonpointer                       2.3\n",
      "jsonschema                        4.17.3\n",
      "jupyter                           1.0.0\n",
      "jupyter_client                    7.4.8\n",
      "jupyter-console                   6.6.3\n",
      "jupyter-contrib-core              0.4.2\n",
      "jupyter-contrib-nbextensions      0.7.0\n",
      "jupyter_core                      5.1.1\n",
      "jupyter-events                    0.5.0\n",
      "jupyter-highlight-selected-word   0.2.0\n",
      "jupyter-nbextensions-configurator 0.6.1\n",
      "jupyter_server                    2.0.5\n",
      "jupyter_server_terminals          0.4.3\n",
      "jupyterlab                        3.5.2\n",
      "jupyterlab-pygments               0.2.2\n",
      "jupyterlab_server                 2.17.0\n",
      "jupyterlab-widgets                3.0.5\n",
      "keras                             2.12.0\n",
      "keyring                           23.13.1\n",
      "kiwisolver                        1.4.4\n",
      "langcodes                         3.3.0\n",
      "lazy-object-proxy                 1.9.0\n",
      "libclang                          16.0.0\n",
      "linkify-it-py                     2.0.0\n",
      "lockfile                          0.12.2\n",
      "lxml                              4.9.2\n",
      "Markdown                          3.4.3\n",
      "markdown-it-py                    2.2.0\n",
      "MarkupSafe                        2.1.1\n",
      "matplotlib                        3.6.2\n",
      "matplotlib-inline                 0.1.6\n",
      "mccabe                            0.7.0\n",
      "mdit-py-plugins                   0.3.3\n",
      "mdurl                             0.1.2\n",
      "mediapipe                         0.10.0\n",
      "mglearn                           0.1.9\n",
      "mistune                           2.0.4\n",
      "mizani                            0.8.1\n",
      "ml-dtypes                         0.1.0\n",
      "mlxtend                           0.21.0\n",
      "more-itertools                    9.0.0\n",
      "mpmath                            1.2.1\n",
      "msgpack                           1.0.5\n",
      "multidict                         6.0.4\n",
      "multitasking                      0.0.11\n",
      "murmurhash                        1.0.9\n",
      "mypy-extensions                   1.0.0\n",
      "Nasdaq-Data-Link                  1.0.4\n",
      "nbclassic                         0.4.8\n",
      "nbclient                          0.7.2\n",
      "nbconvert                         7.2.7\n",
      "nbformat                          5.7.1\n",
      "nest-asyncio                      1.5.6\n",
      "networkx                          3.1\n",
      "nltk                              3.8.1\n",
      "notebook                          6.5.2\n",
      "notebook_shim                     0.2.2\n",
      "numpy                             1.23.5\n",
      "oauthlib                          3.2.2\n",
      "opencv-contrib-python             4.7.0.72\n",
      "opencv-python                     4.7.0.72\n",
      "openpyxl                          3.0.10\n",
      "opt-einsum                        3.3.0\n",
      "orjson                            3.8.10\n",
      "packaging                         22.0\n",
      "palettable                        3.3.0\n",
      "pandas                            1.5.2\n",
      "pandocfilters                     1.5.0\n",
      "parsel                            1.7.0\n",
      "parso                             0.8.3\n",
      "pathspec                          0.11.1\n",
      "pathy                             0.10.1\n",
      "patsy                             0.5.3\n",
      "pbr                               5.11.1\n",
      "pexpect                           4.8.0\n",
      "pickleshare                       0.7.5\n",
      "Pillow                            9.3.0\n",
      "pip                               23.1.2\n",
      "pkginfo                           1.9.6\n",
      "platformdirs                      3.5.1\n",
      "plotly                            5.11.0\n",
      "plotnine                          0.10.1\n",
      "plydata                           0.4.3\n",
      "poetry                            1.5.1\n",
      "poetry-core                       1.6.1\n",
      "poetry-plugin-export              1.4.0\n",
      "preshed                           3.0.8\n",
      "prometheus-client                 0.15.0\n",
      "prompt-toolkit                    3.0.36\n",
      "Protego                           0.2.1\n",
      "protobuf                          3.20.3\n",
      "psutil                            5.9.4\n",
      "ptyprocess                        0.7.0\n",
      "pure-eval                         0.2.2\n",
      "pyarrow                           10.0.1\n",
      "pyasn1                            0.4.8\n",
      "pyasn1-modules                    0.2.8\n",
      "pycodestyle                       2.10.0\n",
      "pycparser                         2.21\n",
      "pydantic                          1.10.2\n",
      "pydeck                            0.8.0\n",
      "PyDispatcher                      2.0.6\n",
      "pydub                             0.25.1\n",
      "pyee                              9.1.0\n",
      "Pygments                          2.13.0\n",
      "pylibsrtp                         0.8.0\n",
      "pylint                            2.17.2\n",
      "Pympler                           1.0.1\n",
      "pyOpenSSL                         23.1.1\n",
      "pyparsing                         3.0.9\n",
      "pyppeteer                         1.0.2\n",
      "pyproject_hooks                   1.0.0\n",
      "pyrsistent                        0.19.2\n",
      "python-dateutil                   2.8.2\n",
      "python-json-logger                2.0.4\n",
      "python-multipart                  0.0.6\n",
      "pytz                              2022.7\n",
      "pytz-deprecation-shim             0.1.0.post0\n",
      "PyYAML                            6.0\n",
      "pyzmq                             24.0.1\n",
      "qtconsole                         5.4.0\n",
      "QtPy                              2.3.0\n",
      "Quandl                            3.7.0\n",
      "queuelib                          1.6.2\n",
      "rapidfuzz                         2.15.1\n",
      "regex                             2022.10.31\n",
      "requests                          2.28.1\n",
      "requests-file                     1.5.1\n",
      "requests-oauthlib                 1.3.1\n",
      "requests-toolbelt                 1.0.0\n",
      "rfc3339-validator                 0.1.4\n",
      "rfc3986-validator                 0.1.1\n",
      "rich                              13.1.0\n",
      "rptree                            0.1.1\n",
      "rsa                               4.9\n",
      "scikit-learn                      1.2.0\n",
      "scikit-learn-intelex              2023.1.1\n",
      "scipy                             1.10.0\n",
      "Scrapy                            2.7.1\n",
      "seaborn                           0.12.2\n",
      "semantic-version                  2.10.0\n",
      "semver                            2.13.0\n",
      "Send2Trash                        1.8.0\n",
      "service-identity                  21.1.0\n",
      "setuptools                        67.8.0\n",
      "shellingham                       1.5.0.post1\n",
      "simplejson                        3.18.0\n",
      "six                               1.16.0\n",
      "smart-open                        6.3.0\n",
      "smmap                             5.0.0\n",
      "sniffio                           1.3.0\n",
      "sounddevice                       0.4.6\n",
      "soupsieve                         2.3.2.post1\n",
      "spacy                             3.5.1\n",
      "spacy-legacy                      3.0.12\n",
      "spacy-loggers                     1.0.4\n",
      "srsly                             2.4.6\n",
      "stack-data                        0.6.2\n",
      "starlette                         0.22.0\n",
      "statsmodels                       0.13.5\n",
      "stevedore                         5.1.0\n",
      "streamlit                         1.17.0\n",
      "streamlit-webrtc                  0.45.0\n",
      "sudo                              1.0.0\n",
      "sympy                             1.11.1\n",
      "tbb                               2021.9.0\n",
      "tenacity                          8.1.0\n",
      "tensorboard                       2.12.3\n",
      "tensorboard-data-server           0.7.0\n",
      "tensorflow                        2.12.0\n",
      "tensorflow-estimator              2.12.0\n",
      "tensorflow-io-gcs-filesystem      0.32.0\n",
      "termcolor                         2.3.0\n",
      "terminado                         0.17.1\n",
      "thinc                             8.1.9\n",
      "threadpoolctl                     3.1.0\n",
      "tinycss2                          1.2.1\n",
      "tldextract                        3.4.0\n",
      "toml                              0.10.2\n",
      "tomli                             2.0.1\n",
      "tomlkit                           0.11.7\n"
     ]
    },
    {
     "name": "stdout",
     "output_type": "stream",
     "text": [
      "toolz                             0.12.0\r\n",
      "torch                             2.0.0\r\n",
      "torchvision                       0.15.1\r\n",
      "tornado                           6.2\r\n",
      "tqdm                              4.64.1\r\n",
      "traitlets                         5.8.0\r\n",
      "trove-classifiers                 2023.5.24\r\n",
      "Twisted                           22.10.0\r\n",
      "txt2tags                          3.7\r\n",
      "typer                             0.7.0\r\n",
      "typing_extensions                 4.4.0\r\n",
      "tzdata                            2022.7\r\n",
      "tzlocal                           4.2\r\n",
      "uc-micro-py                       1.0.1\r\n",
      "uri-template                      1.2.0\r\n",
      "urllib3                           1.26.13\r\n",
      "uvicorn                           0.20.0\r\n",
      "validators                        0.20.0\r\n",
      "virtualenv                        20.23.0\r\n",
      "w3lib                             2.1.1\r\n",
      "wasabi                            1.1.1\r\n",
      "watchdog                          2.2.1\r\n",
      "wcwidth                           0.2.5\r\n",
      "webcolors                         1.12\r\n",
      "webencodings                      0.5.1\r\n",
      "websocket-client                  1.4.2\r\n",
      "websockets                        10.4\r\n",
      "Werkzeug                          2.2.2\r\n",
      "wheel                             0.40.0\r\n",
      "widgetsnbextension                4.0.5\r\n",
      "wrapt                             1.14.1\r\n",
      "xattr                             0.10.1\r\n",
      "xeus-python                       0.15.0\r\n",
      "xeus-python-shell                 0.5.0\r\n",
      "xgboost                           1.7.3\r\n",
      "xlrd                              2.0.1\r\n",
      "yarl                              1.8.2\r\n",
      "yfinance                          0.2.3\r\n",
      "zipp                              3.11.0\r\n",
      "zope.interface                    5.5.2\r\n"
     ]
    }
   ],
   "source": [
    "!python3 -m pip list"
   ]
  },
  {
   "cell_type": "markdown",
   "id": "fcc5c5aa",
   "metadata": {},
   "source": [
    "The pip list command renders a table that shows all installed packages in your current environment. The output above shows the version of the packages using an x.y.z placeholder format. When you run the pip list command in your environment, pip displays the specific version number that you’ve installed for each package.\n",
    "\n",
    "To get more information about a specific package, you can look at the package’s metadata by using the show command in pip:"
   ]
  },
  {
   "cell_type": "code",
   "execution_count": 29,
   "id": "44e1e679",
   "metadata": {},
   "outputs": [
    {
     "name": "stdout",
     "output_type": "stream",
     "text": [
      "Name: requests\r\n",
      "Version: 2.28.1\r\n",
      "Summary: Python HTTP for Humans.\r\n",
      "Home-page: https://requests.readthedocs.io\r\n",
      "Author: Kenneth Reitz\r\n",
      "Author-email: me@kennethreitz.org\r\n",
      "License: Apache 2.0\r\n",
      "Location: /Library/Frameworks/Python.framework/Versions/3.11/lib/python3.11/site-packages\r\n",
      "Requires: certifi, charset-normalizer, idna, urllib3\r\n",
      "Required-by: CacheControl, fastai, gradio, gradio_client, huggingface-hub, jupyterlab_server, Nasdaq-Data-Link, poetry, Quandl, requests-file, requests-oauthlib, requests-toolbelt, spacy, streamlit, tensorboard, tldextract, torchvision, yfinance\r\n"
     ]
    }
   ],
   "source": [
    "!python3 -m pip show requests"
   ]
  },
  {
   "cell_type": "markdown",
   "id": "62ee0954",
   "metadata": {},
   "source": [
    "The output of this command on your system will list the package’s metadata. The Requires line lists packages, such as certifi, idna, charset-normalizer, and urllib3. These were installed because requests depends on them to work correctly.\n",
    "\n",
    "Now that you’ve installed requests and its dependencies, you can import it just like any other regular package in your Python code. Start the interactive Python interpreter and import the requests package:"
   ]
  },
  {
   "cell_type": "code",
   "execution_count": 31,
   "id": "43de15e9",
   "metadata": {},
   "outputs": [
    {
     "data": {
      "text/plain": [
       "'2.28.1'"
      ]
     },
     "execution_count": 31,
     "metadata": {},
     "output_type": "execute_result"
    }
   ],
   "source": [
    "import requests\n",
    "requests.__version__"
   ]
  },
  {
   "cell_type": "markdown",
   "id": "36b2ab29",
   "metadata": {},
   "source": [
    "After starting the interactive Python interpreter, you imported the requests module. By calling `requests.__version__`, you verified that you were using the requests module within your virtual environment."
   ]
  },
  {
   "cell_type": "markdown",
   "id": "a0dfce99",
   "metadata": {},
   "source": [
    "## Using a Custom Package Index\n",
    "By default, pip uses PyPI to look for packages. But pip also gives you the option to define a custom package index.\n",
    "\n",
    "Using pip with a custom index can be helpful when the PyPI domain is blocked on your network or if you want to work with packages that aren’t publicly available. Sometimes system administrators also create their own internal package index to better control which package versions are available to pip users on the company’s network.\n",
    "\n",
    "A custom package index must comply with PEP 503 – Simple Repository API to work with pip. You can get an impression of how such an API (Application Programming Interface) looks by visiting the PyPI Simple Index—but be aware that this is a large page with a lot of hard-to-parse content. Any custom index that follows the same API can be targeted with the --index-url option. Instead of typing --index-url, you can also use the -i shorthand.\n",
    "\n",
    "For example, to install the rptree tool from the TestPyPI package index, you can run the following command:"
   ]
  },
  {
   "cell_type": "code",
   "execution_count": 32,
   "id": "9a120d83",
   "metadata": {},
   "outputs": [
    {
     "name": "stdout",
     "output_type": "stream",
     "text": [
      "Looking in indexes: https://test.pypi.org/simple/\r\n",
      "Requirement already satisfied: rptree in /Library/Frameworks/Python.framework/Versions/3.11/lib/python3.11/site-packages (0.1.1)\r\n"
     ]
    }
   ],
   "source": [
    "!python3 -m pip install -i https://test.pypi.org/simple/ rptree"
   ]
  },
  {
   "cell_type": "markdown",
   "id": "c2c1b7fe",
   "metadata": {},
   "source": [
    "With the -i option, you tell pip to look at a different package index instead of PyPI, the default one. Here, you’re installing rptree from TestPyPI rather than from PyPI. You can use TestPyPI to fine-tune the publishing process for your Python packages without cluttering the production package index on PyPI."
   ]
  },
  {
   "cell_type": "markdown",
   "id": "c3400a87",
   "metadata": {},
   "source": [
    "## Installing Packages From Your GitHub Repositories\n",
    "You’re not limited to packages hosted on PyPI or other package indexes. pip also provides the option to install packages from a GitHub repository. But even when a package is hosted on PyPI, like the Real Python directory tree generator, you can opt to install it from its Git repository:"
   ]
  },
  {
   "cell_type": "code",
   "execution_count": 33,
   "id": "dd658d95",
   "metadata": {},
   "outputs": [
    {
     "name": "stdout",
     "output_type": "stream",
     "text": [
      "Collecting git+https://github.com/realpython/rptree\n",
      "  Cloning https://github.com/realpython/rptree to /private/var/folders/61/l2cgm0251bd792ws429rg7ww0000gn/T/pip-req-build-nmiqlrlm\n",
      "  Running command git clone --filter=blob:none --quiet https://github.com/realpython/rptree /private/var/folders/61/l2cgm0251bd792ws429rg7ww0000gn/T/pip-req-build-nmiqlrlm\n",
      "  Resolved https://github.com/realpython/rptree to commit 08dcb019aea6e3e326c39be9741e52adb77a2c19\n",
      "  Preparing metadata (setup.py) ... \u001b[?25ldone\n",
      "\u001b[?25h"
     ]
    }
   ],
   "source": [
    "!python3 -m pip install git+https://github.com/realpython/rptree"
   ]
  },
  {
   "cell_type": "markdown",
   "id": "4e7519cb",
   "metadata": {},
   "source": [
    "With the git+https scheme, you can point to a Git repository that contains an installable package. You can verify that you installed the package correctly by running an interactive Python interpreter and importing rptree:"
   ]
  },
  {
   "cell_type": "code",
   "execution_count": 36,
   "id": "aa4da176",
   "metadata": {},
   "outputs": [
    {
     "data": {
      "text/plain": [
       "'0.1.1'"
      ]
     },
     "execution_count": 36,
     "metadata": {},
     "output_type": "execute_result"
    }
   ],
   "source": [
    "import rptree\n",
    "rptree.__version__"
   ]
  },
  {
   "cell_type": "markdown",
   "id": "a2e39498",
   "metadata": {},
   "source": [
    "After starting the interactive Python interpreter, you import the rptree module. By calling `rptree.__version__`, you verify that you’re using the rptree module that’s based in your virtual environment.\n",
    "\n",
    "`Note: If you’re using a version control system (VCS) other than Git, pip has you covered. To learn how to use pip with Mercurial, Subversion, or Bazaar, check out the VCS Support chapter of the pip documentation.`\n",
    "\n",
    "Installing packages from a Git repository can be helpful if the package isn’t hosted on PyPI but has a remote Git repository. The remote repository you point pip to can even be hosted on an internal Git server on your company’s intranet. This can be useful when you’re behind a firewall or have other restrictions for your Python projects."
   ]
  },
  {
   "cell_type": "markdown",
   "id": "f9adffbb",
   "metadata": {},
   "source": [
    "## Installing Packages in Editable Mode to Ease Development\n",
    "When working on your own package, installing it in an editable mode can make sense. By doing this, you can work on the source code while still using your command line like you would in any other package. A typical workflow is to first clone the repository and then use pip to install it as an editable package in your environment:"
   ]
  },
  {
   "cell_type": "code",
   "execution_count": 37,
   "id": "bf54e5eb",
   "metadata": {},
   "outputs": [
    {
     "name": "stdout",
     "output_type": "stream",
     "text": [
      "Cloning into 'rptree'...\n",
      "remote: Enumerating objects: 88, done.\u001b[K\n",
      "remote: Counting objects: 100% (88/88), done.\u001b[K\n",
      "remote: Compressing objects: 100% (58/58), done.\u001b[K\n",
      "remote: Total 88 (delta 41), reused 68 (delta 28), pack-reused 0\u001b[K\n",
      "Receiving objects: 100% (88/88), 29.98 KiB | 241.00 KiB/s, done.\n",
      "Resolving deltas: 100% (41/41), done.\n",
      "Obtaining file:///Users/subratamondal/Workspace/Python/Using%20Python%27s%20pip%20to%20Manage%20Your%20Projects%27%20Dependencies\n",
      "\u001b[31mERROR: file:///Users/subratamondal/Workspace/Python/Using%20Python%27s%20pip%20to%20Manage%20Your%20Projects%27%20Dependencies does not appear to be a Python project: neither 'setup.py' nor 'pyproject.toml' found.\u001b[0m\u001b[31m\n",
      "\u001b[0m"
     ]
    }
   ],
   "source": [
    "!git clone https://github.com/realpython/rptree\n",
    "!cd rptree\n",
    "!python3 -m venv venv\n",
    "!source venv/bin/activate\n",
    "!python3 -m pip install -e ."
   ]
  },
  {
   "cell_type": "markdown",
   "id": "68a1a0d1",
   "metadata": {},
   "source": [
    "With the commands above, you installed the rptree package as an editable module. Here’s a step-by-step breakdown of the actions you just performed:\n",
    "\n",
    "1. Line 1 cloned the Git repository of the rptree package.\n",
    "2. Line 2 changed the working directory to rptree/.\n",
    "3. Lines 3 and 4 created and activated a virtual environment.\n",
    "4. Line 5 installed the content of the current directory as an editable package.\n",
    "\n",
    "The -e option is shorthand for the --editable option. When you use the -e option with pip install, you tell pip that you want to install the package in editable mode. Instead of using a package name, you use a dot (.) to point pip to the current directory.\n",
    "\n",
    "If you hadn’t used the -e flag, pip would’ve installed the package normally into your environment’s site-packages/ folder. When you install a package in editable mode, you’re creating a link in the site-packages to the local project path:"
   ]
  },
  {
   "cell_type": "code",
   "execution_count": 39,
   "id": "39c2bd0c",
   "metadata": {},
   "outputs": [
    {
     "name": "stdout",
     "output_type": "stream",
     "text": [
      "Using Python's pip to Manage Your Projects' Dependencies.ipynb\r\n",
      "\u001b[1m\u001b[36mrptree\u001b[m\u001b[m\r\n",
      "\u001b[1m\u001b[36mvenv\u001b[m\u001b[m\r\n",
      "\u001b[1m\u001b[36mvenv_subrata\u001b[m\u001b[m\r\n"
     ]
    }
   ],
   "source": [
    "!ls"
   ]
  },
  {
   "cell_type": "markdown",
   "id": "aff509a5",
   "metadata": {},
   "source": [
    "`python\n",
    "~/rptree/venv/lib/python3.10/site-packages/rptree.egg-link\n",
    "`\n",
    "\n",
    "Using the pip install command with the -e flag is just one of many options that pip install offers. You can check out pip install examples in the pip documentation. There you’ll learn how to install specific versions of a package or point pip to a different index that’s not PyPI."
   ]
  },
  {
   "cell_type": "markdown",
   "id": "2bff6dc8",
   "metadata": {},
   "source": [
    "# Using Requirements Files\n",
    "The pip install command always installs the latest published version of a package, but sometimes your code requires a specific package version to work correctly.\n",
    "\n",
    "You want to create a specification of the dependencies and versions that you used to develop and test your application so that there are no surprises when you use the application in production.\n",
    "\n",
    "When you share your Python project with other developers, you may want them to use the same versions of external packages that you’re using. Maybe a specific version of a package contains a new feature that you rely on, or the version of a package that you’re using is incompatible with former versions.\n",
    "\n",
    "These external dependencies are also called requirements. You’ll often find Python projects that pin their requirements in a file called requirements.txt or similar. The requirements file format allows you to specify precisely which packages and versions should be installed.\n",
    "\n",
    "Running pip help shows that there’s a freeze command that outputs the installed packages in requirements format. You can use this command, redirecting the output to a file to generate a requirements file:"
   ]
  },
  {
   "cell_type": "code",
   "execution_count": 40,
   "id": "6a29a729",
   "metadata": {},
   "outputs": [],
   "source": [
    "!python3 -m pip freeze > requirements.txt"
   ]
  },
  {
   "cell_type": "code",
   "execution_count": 41,
   "id": "f5418898",
   "metadata": {
    "scrolled": true
   },
   "outputs": [
    {
     "name": "stdout",
     "output_type": "stream",
     "text": [
      "Using Python's pip to Manage Your Projects' Dependencies.ipynb\r\n",
      "requirements.txt\r\n",
      "\u001b[1m\u001b[36mrptree\u001b[m\u001b[m\r\n",
      "\u001b[1m\u001b[36mvenv\u001b[m\u001b[m\r\n",
      "\u001b[1m\u001b[36mvenv_subrata\u001b[m\u001b[m\r\n"
     ]
    }
   ],
   "source": [
    "!ls"
   ]
  },
  {
   "cell_type": "markdown",
   "id": "b1c4f683",
   "metadata": {},
   "source": [
    "This command creates a requirements.txt file in your working directory with the following content:"
   ]
  },
  {
   "cell_type": "code",
   "execution_count": 43,
   "id": "a3419fb5",
   "metadata": {},
   "outputs": [
    {
     "name": "stdout",
     "output_type": "stream",
     "text": [
      "absl-py==1.4.0\r\n",
      "aiofiles==23.1.0\r\n",
      "aiohttp==3.8.4\r\n",
      "aioice==0.9.0\r\n",
      "aiortc==1.5.0\r\n",
      "aiosignal==1.3.1\r\n",
      "altair==4.2.0\r\n",
      "anyio==3.6.2\r\n",
      "appdirs==1.4.4\r\n",
      "appnope==0.1.3\r\n"
     ]
    }
   ],
   "source": [
    "!head requirements.txt"
   ]
  },
  {
   "cell_type": "markdown",
   "id": "05bee3e2",
   "metadata": {},
   "source": [
    "The freeze command dumps the name and version of the currently installed packages to standard output. You can redirect the output to a file that you can later use to install your exact requirements into another system. You can name the requirements file whatever you want. However, a widely adopted convention is to name it requirements.txt.\n",
    "\n",
    "When you want to replicate the environment in another system, you can run pip install, using the -r switch to specify the requirements file:\n",
    "\n",
    "```python\n",
    "$ python3 -m pip install -r requirements.txt\n",
    "```\n",
    "\n",
    "In the command above, you tell pip to install the packages listed in requirements.txt into your current environment. The package versions will match the version constraints that the requirements.txt file contains. You can run pip list to display the packages you just installed, with their version numbers:\n",
    "\n",
    "```python\n",
    "$ python3 -m pip list\n",
    "```\n",
    "\n",
    "Now you’re ready to share your project! You can submit requirements.txt into a version control system like Git and use it to replicate the same environment on other machines. But wait, what happens if new updates are released for these packages?"
   ]
  },
  {
   "cell_type": "markdown",
   "id": "17a23704",
   "metadata": {},
   "source": [
    "## Fine-Tuning Requirements\n",
    "The problem with hardcoding your packages’ versions and dependencies is that packages are updated frequently with bug and security fixes. You probably want to leverage those updates as soon as they’re published.\n",
    "\n",
    "The requirements file format allows you to specify dependency versions using comparison operators that give you some flexibility to ensure packages are updated while still defining the base version of a package.\n",
    "\n",
    "Open requirements.txt in your favorite editor and turn the equality operators (==) into greater than or equal to operators (>=), like in the example below:\n",
    "\n",
    "```python\n",
    "# requirements.txt\n",
    "\n",
    "certifi>=x.y.z\n",
    "charset-normalizer>=x.y.z\n",
    "idna>=x.y.z\n",
    "requests>=x.y.z\n",
    "urllib3>=x.y.z\n",
    "```\n",
    "\n",
    "You can change the comparison operator to >= to tell pip to install an exact or greater version that has been published. When you set a new environment by using the requirements.txt file, pip looks for the latest version that satisfies the requirement and installs it.\n",
    "\n",
    "Next, you can upgrade the packages in your requirements file by running the install command with the --upgrade switch or the -U shorthand:\n",
    "\n",
    "```python\n",
    "$ python3 -m pip install -U -r requirements.txt\n",
    "```\n",
    "\n",
    "If a new version is available for a listed package, then the package will be upgraded.\n",
    "\n",
    "In an ideal world, new versions of packages would be backward compatible and would never introduce new bugs. Unfortunately, new versions can introduce changes that’ll break your application. To fine-tune your requirements, the requirements file syntax supports additional version specifiers.\n",
    "\n",
    "Imagine that a new version, 3.0, of requests is published but introduces an incompatible change that breaks your application. You can modify the requirements file to prevent 3.0 or higher from being installed:\n",
    "\n",
    "```python\n",
    "# requirements.txt\n",
    "\n",
    "certifi==x.y.z\n",
    "charset-normalizer==x.y.z\n",
    "idna==x.y.z\n",
    "requests>=x.y.z, <3.0\n",
    "urllib3==x.y.z\n",
    "```\n",
    "\n",
    "Changing the version specifier for the requests package ensures that any version greater than or equal to 3.0 doesn’t get installed. The pip documentation provides extensive information about the [requirements file format](https://pip.pypa.io/en/stable/reference/requirements-file-format/), and you can consult it to learn more."
   ]
  },
  {
   "cell_type": "markdown",
   "id": "42f9250c",
   "metadata": {},
   "source": [
    "## Separating Production and Development Dependencies\n",
    "Not all packages that you install during the development of your applications will be production dependencies. For example, you’ll probably want to test your application, so you need a test framework. A popular framework for testing is `pytest`. You want to install it in your development environment, but you don’t want it in your production environment, because it isn’t a production dependency.\n",
    "\n",
    "You create a second requirements file, requirements_dev.txt, to list additional tools to set up a development environment:\n",
    "\n",
    "```python\n",
    "# requirements_dev.txt\n",
    "\n",
    "pytest>=x.y.z\n",
    "```\n",
    "\n",
    "Having two requirements files will demand that you use pip to install both of them, requirements.txt and requirements_dev.txt. Fortunately, pip allows you to specify additional parameters within a requirements file, so you can modify requirements_dev.txt to also install the requirements from the production requirements.txt file:\n",
    "\n",
    "```python\n",
    "# requirements_dev.txt\n",
    "\n",
    "-r requirements.txt\n",
    "pytest>=x.y.z\n",
    "```\n",
    "\n",
    "`Notice` that you use the same -r switch to install the production requirements.txt file. Now, in your development environment, you only have to run this single command to install all requirements:\n",
    "\n",
    "```python\n",
    "$ python3 -m pip install -r requirements_dev.txt\n",
    "```\n",
    "\n",
    "Because requirements_dev.txt contains the -r requirements.txt line, you’ll install not only pytest but also the pinned requirements of requirements.txt. In a production environment, it’s sufficient to install the production requirements only:\n",
    "\n",
    "```python\n",
    "$ python3 -m pip install -r requirements.txt\n",
    "```\n",
    "\n",
    "With this command, you install the requirements listed in requirements.txt. In contrast to your development environment, your production environment won’t have pytest installed."
   ]
  },
  {
   "cell_type": "markdown",
   "id": "5b2eff80",
   "metadata": {},
   "source": [
    "## Freezing Requirements for Production\n",
    "You created the production and development requirement files and added them to source control. These files use flexible version specifiers to ensure that you leverage bug fixes published by your dependencies. You’ve also tested your application and are now ready to deploy it to production.\n",
    "\n",
    "You know that all the tests pass and the application works with the dependencies that you used in your development process, so you probably want to ensure that you deploy identical versions of dependencies to production.\n",
    "\n",
    "The current version specifiers don’t guarantee that the identical versions will be deployed to production, so you want to freeze the production requirements before releasing your project.\n",
    "\n",
    "After you’ve finished development with your current requirements, a workflow to create a new release of your current project can look like this:\n",
    "\n",
    "| Step | Command | Explanation |\n",
    "| --- | --- | --- |\n",
    "| 1 | pytest | Run your tests and verify that your code is working properly. |\n",
    "| 2 | pip install -U -r requirements.txt | Upgrade your requirements to versions that match the constraints in your requirements.txt file. |\n",
    "| 3 | pytest | Run your tests and consider downgrading any dependency that introduced errors to your code. |\n",
    "| 4 | pip freeze > requirements_lock.txt | Once the project works correctly, freeze the dependencies into a requirements_lock.txt file. |\n",
    "\n",
    "With a workflow like this, the requirements_lock.txt file will contain exact version specifiers and can be used to replicate your environment. You’ve ensured that when your users install the packages listed in requirements_lock.txt into their own environments, they’ll be using the versions that you intend them to use.\n",
    "\n",
    "Freezing your requirements is an important step to ensure that your Python project works the same way for your users in their environments as it did in yours.\n"
   ]
  },
  {
   "cell_type": "markdown",
   "id": "796e9b0e",
   "metadata": {},
   "source": [
    "# Uninstalling Packages With pip\n",
    "Once in a while, you’ll have to uninstall a package. Either you found a better library to replace it, or it’s something that you don’t need. Uninstalling packages can be a bit tricky.\n",
    "\n",
    "Notice that when you installed requests, you got pip to install other dependencies too. The more packages you install, the bigger the chance that multiple packages depend on the same dependency. This is where the show command in pip comes in handy.\n",
    "\n",
    "Before you uninstall a package, make sure to run the show command for that package:"
   ]
  },
  {
   "cell_type": "code",
   "execution_count": 44,
   "id": "e2b73a12",
   "metadata": {},
   "outputs": [
    {
     "name": "stdout",
     "output_type": "stream",
     "text": [
      "Name: requests\r\n",
      "Version: 2.28.1\r\n",
      "Summary: Python HTTP for Humans.\r\n",
      "Home-page: https://requests.readthedocs.io\r\n",
      "Author: Kenneth Reitz\r\n",
      "Author-email: me@kennethreitz.org\r\n",
      "License: Apache 2.0\r\n",
      "Location: /Library/Frameworks/Python.framework/Versions/3.11/lib/python3.11/site-packages\r\n",
      "Requires: certifi, charset-normalizer, idna, urllib3\r\n",
      "Required-by: CacheControl, fastai, gradio, gradio_client, huggingface-hub, jupyterlab_server, Nasdaq-Data-Link, poetry, Quandl, requests-file, requests-oauthlib, requests-toolbelt, spacy, streamlit, tensorboard, tldextract, torchvision, yfinance\r\n"
     ]
    }
   ],
   "source": [
    "!python3 -m pip show requests"
   ]
  },
  {
   "cell_type": "markdown",
   "id": "2a461fdb",
   "metadata": {},
   "source": [
    "Notice the last two fields, Requires and Required-by. The show command tells you that requests requires certifi, idna, charset-normalizer, and urllib3. You probably want to uninstall those too. Notice that requests isn’t required by any other package. So it’s safe to uninstall it.\n",
    "\n",
    "You should run the show command against all of the requests dependencies to ensure that no other libraries also depend on them. Once you understand the dependency order of the packages that you want to uninstall, then you can remove them using the uninstall command:\n",
    "\n",
    "```python\n",
    "$ python3 -m pip uninstall certifi\n",
    "```\n",
    "\n",
    "The uninstall command shows you the files that will be removed and asks for confirmation. If you’re sure that you want to remove the package because you’ve checked its dependencies and know that nothing else is using it, then you can pass a -y switch to suppress the file list and confirmation dialog:\n",
    "\n",
    "```python\n",
    "$ python3 -m pip uninstall urllib3 -y\n",
    "```\n",
    "\n",
    "Here you uninstall urllib3. Using the -y switch, you suppress the confirmation dialog asking you if you want to uninstall this package.\n",
    "\n",
    "In a single call, you can specify all the packages that you want to uninstall:\n",
    "\n",
    "```python\n",
    "$ python3 -m pip uninstall -y charset-normalizer idna requests\n",
    "```\n",
    "\n",
    "You can pass in multiple packages to the pip uninstall command. If you didn’t add any additional switches, then you’d need to confirm uninstalling each package. By passing the -y switch, you can uninstall them all without any confirmation dialog.\n",
    "\n",
    "You can also uninstall all the packages listed in a requirements file by providing the -r <requirements file> option. This command will prompt a confirmation request for each package, but you can suppress it with the -y switch:\n",
    "\n",
    "```python\n",
    "$ python3 -m pip uninstall -r requirements.txt -y\n",
    "```\n",
    "\n",
    "Remember to always check the dependencies of packages that you want to uninstall. You probably want to uninstall all dependencies, but uninstalling a package used by others will break your working environment. In consequence, your project may not work correctly anymore.\n",
    "\n",
    "If you’re working in a virtual environment, it can be less work to just create a new virtual environment. Then you can install the packages that you need instead of trying to uninstall the packages that you don’t need. However, pip uninstall can be really helpful when you need to uninstall a package from your system Python installation. Using pip uninstall is a good way to declutter your system if you accidentally install a package system-wide."
   ]
  },
  {
   "cell_type": "markdown",
   "id": "e39a88f2",
   "metadata": {},
   "source": [
    "# Exploring Alternatives to pip\n",
    "The Python community provides excellent tools and libraries for you to use beyond pip. These include alternatives to pip that try to simplify and improve package management.\n",
    "\n",
    "Here are some other package management tools that are available for Python:\n",
    "\n",
    "| Tool | Description |\n",
    "| --- | --- |\n",
    "| Conda | Conda is a package, dependency, and environment manager for many languages, including Python. It comes from Anaconda, which started as a data science package for Python. Consequently, it’s widely used for data science and machine learning applications. Conda operates its own index to host compatible packages. |\n",
    "| Poetry | Poetry will look very familiar to you if you’re coming from JavaScript and npm. Poetry goes beyond package management, helping you build distributions for your applications and libraries and deploying them to PyPI. |\n",
    "| Pipenv | Pipenv is another package management tool that merges virtual environment and package management in a single tool. Pipenv: A Guide to the New Python Packaging Tool is a great place to start learning about Pipenv and its approach to package management. |\n",
    "\n",
    "Only pip comes bundled in the standard Python installation. If you want to use any alternatives listed above, then you have to follow the installation guides in their documentation. With so many options, you’re sure to find the right tools for your programming journey!\n"
   ]
  },
  {
   "cell_type": "markdown",
   "id": "be6c9aef",
   "metadata": {},
   "source": [
    "# Conclusion\n",
    "Many Python projects use the pip package manager to manage their dependencies. It’s included with the Python installer, and it’s an essential tool for dependency management in Python.\n",
    "\n",
    "In this tutorial, you learned how to:\n",
    "\n",
    "* **Set up and run** pip in your working environment\n",
    "* **Fix common errors** related to working with pip\n",
    "* **Install and uninstall** packages with pip\n",
    "* **Define requirements** for your projects and applications\n",
    "* **Pin dependencies** in requirements files\n",
    "\n",
    "In addition, you’ve learned about the importance of keeping dependencies up to date and alternatives to pip that can help you manage those dependencies.\n",
    "\n",
    "By taking a closer look at pip, you’ve explored an essential tool in your Python development workflows. With pip, you can install and manage any additional packages that you find on PyPI. You can use external packages from other developers as requirements and concentrate on the code that makes your project unique."
   ]
  },
  {
   "cell_type": "markdown",
   "id": "c29e2927",
   "metadata": {},
   "source": [
    "---"
   ]
  }
 ],
 "metadata": {
  "hide_input": false,
  "kernelspec": {
   "display_name": "Python 3 (ipykernel)",
   "language": "python",
   "name": "python3"
  },
  "language_info": {
   "codemirror_mode": {
    "name": "ipython",
    "version": 3
   },
   "file_extension": ".py",
   "mimetype": "text/x-python",
   "name": "python",
   "nbconvert_exporter": "python",
   "pygments_lexer": "ipython3",
   "version": "3.11.1"
  },
  "toc": {
   "base_numbering": 1,
   "nav_menu": {},
   "number_sections": true,
   "sideBar": true,
   "skip_h1_title": false,
   "title_cell": "Table of Contents",
   "title_sidebar": "Contents",
   "toc_cell": false,
   "toc_position": {},
   "toc_section_display": true,
   "toc_window_display": false
  },
  "varInspector": {
   "cols": {
    "lenName": 16,
    "lenType": 16,
    "lenVar": 40
   },
   "kernels_config": {
    "python": {
     "delete_cmd_postfix": "",
     "delete_cmd_prefix": "del ",
     "library": "var_list.py",
     "varRefreshCmd": "print(var_dic_list())"
    },
    "r": {
     "delete_cmd_postfix": ") ",
     "delete_cmd_prefix": "rm(",
     "library": "var_list.r",
     "varRefreshCmd": "cat(var_dic_list()) "
    }
   },
   "types_to_exclude": [
    "module",
    "function",
    "builtin_function_or_method",
    "instance",
    "_Feature"
   ],
   "window_display": false
  }
 },
 "nbformat": 4,
 "nbformat_minor": 5
}
